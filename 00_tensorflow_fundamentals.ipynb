{
  "nbformat": 4,
  "nbformat_minor": 0,
  "metadata": {
    "colab": {
      "provenance": [],
      "gpuType": "T4",
      "authorship_tag": "ABX9TyPQjkSIZE3e5Wi+C2MmJTL+",
      "include_colab_link": true
    },
    "kernelspec": {
      "name": "python3",
      "display_name": "Python 3"
    },
    "language_info": {
      "name": "python"
    },
    "accelerator": "GPU"
  },
  "cells": [
    {
      "cell_type": "markdown",
      "metadata": {
        "id": "view-in-github",
        "colab_type": "text"
      },
      "source": [
        "<a href=\"https://colab.research.google.com/github/Jiiahhhh/Belajar_TensorFlow/blob/master/00_tensorflow_fundamentals.ipynb\" target=\"_parent\"><img src=\"https://colab.research.google.com/assets/colab-badge.svg\" alt=\"Open In Colab\"/></a>"
      ]
    },
    {
      "cell_type": "markdown",
      "source": [
        "#0.0 Getting started with TensorFlow: A guide to the fundamentals"
      ],
      "metadata": {
        "id": "g3iUoAS3TSJV"
      }
    },
    {
      "cell_type": "markdown",
      "source": [
        "### What is TensorFlow?\n",
        "TensorFlow, ini adalah library machine learning open-source. Library ini menyediakan solusi lengkap untuk pra-pemrosesan data, pemodelan data, dan penyajian model (distribusi model kepada pengguna lain).\n",
        "\n",
        "### Why use TensorFlow?\n",
        "Daripada membangun model machine learning dan deep learning dari awal, lebih mungkin Anda akan menggunakan sebuah library seperti TensorFlow. Hal ini karena library tersebut mengandung banyak fungsi machine learning yang paling umum yang mungkin Anda ingin gunakan.\n",
        "\n",
        "### What we're going to cover\n",
        "TensorFlow sangat luas. Tetapi premis utamanya sederhana: mengubah data menjadi angka (tensor) dan membangun algoritma machine learning untuk menemukan pola di dalamnya.\n",
        "\n",
        "Dalam buku catatan ini, kami mencakup beberapa operasi TensorFlow yang paling fundamental, lebih spesifiknya:\n",
        "\n",
        "* Pengenalan terhadap tensors (membuat tensors)\n",
        "* Mendapatkan informasi dari tensors (atribut tensors)\n",
        "* Memanipulasi tensors (operasi tensors)\n",
        "* Tensors dan NumPy\n",
        "* Menggunakan @tf.function (cara untuk mempercepat fungsi Python reguler Anda)\n",
        "* Menggunakan GPU dengan TensorFlow\n",
        "* Latihan untuk dicoba\n",
        "\n",
        "Hal-hal yang perlu diperhatikan:\n",
        "* Banyak dari konvensi di sini akan terjadi secara otomatis di belakang layar (saat Anda membangun sebuah model), tetapi itu layak diketahui sehingga jika Anda melihat salah satu dari hal-hal ini, Anda tahu apa yang terjadi.\n",
        "* Untuk setiap fungsi TensorFlow yang Anda lihat, penting untuk dapat memeriksanya dalam dokumentasi, misalnya, dengan pergi ke dokumen API Python untuk semua fungsi dan mencari apa yang Anda butuhkan: https://www.tensorflow.org/api_docs/python/ (jangan khawatir jika ini terlihat menakutkan pada awalnya, dengan cukup latihan, Anda akan terbiasa menavigasi dokumentasi)."
      ],
      "metadata": {
        "id": "D5LkMVicTY6d"
      }
    },
    {
      "cell_type": "code",
      "execution_count": null,
      "metadata": {
        "colab": {
          "base_uri": "https://localhost:8080/"
        },
        "id": "05PGhbOpTL_5",
        "outputId": "a533a6e1-e4a3-4778-8080-f3aeeeddc59e"
      },
      "outputs": [
        {
          "output_type": "stream",
          "name": "stdout",
          "text": [
            "Notebook last run (end-to-end): 2024-02-20 02:24:51.086060\n"
          ]
        }
      ],
      "source": [
        "# Create timestamp\n",
        "import datetime\n",
        "\n",
        "print(f\"Notebook last run (end-to-end): {datetime.datetime.now()}\")"
      ]
    },
    {
      "cell_type": "markdown",
      "source": [
        "## Introducing to Tensors\n",
        "Jika Anda pernah menggunakan NumPy, tensors mirip dengan array NumPy (kita akan melihat lebih banyak tentang ini nanti).\n",
        "\n",
        "Untuk keperluan buku catatan ini dan ke depannya, Anda dapat menganggap tensor sebagai representasi numerik multi-dimensi (juga disebut sebagai n-dimensional, di mana n dapat menjadi angka apa pun) dari sesuatu. Di mana sesuatu bisa hampir apa saja yang bisa Anda bayangkan:\n",
        "\n",
        "* Ini bisa berupa angka itu sendiri (menggunakan tensors untuk merepresentasikan harga rumah).\n",
        "* Ini bisa menjadi gambar (menggunakan tensors untuk merepresentasikan piksel dari sebuah gambar).\n",
        "* Ini bisa menjadi teks (menggunakan tensors untuk merepresentasikan kata-kata).\n",
        "* Atau bisa menjadi beberapa bentuk informasi (atau data) lainnya yang ingin Anda representasikan dengan angka.\n",
        "\n",
        "Perbedaan utama antara tensors dan array NumPy (juga array numerik n-dimensional) adalah bahwa tensors dapat digunakan pada GPU (unit pemrosesan grafis) dan TPU (unit pemrosesan tensor).\n",
        "\n",
        "Manfaat dari dapat dijalankan pada GPU dan TPU adalah perhitungan yang lebih cepat, ini berarti, jika kita ingin menemukan pola dalam representasi numerik dari data kita, kita umumnya dapat menemukannya lebih cepat menggunakan GPU dan TPU.\n",
        "\n",
        "Baiklah, sudah cukup pembicaraan tentang tensors, mari kita lihat mereka.\n",
        "\n",
        "Hal pertama yang akan kita lakukan adalah mengimpor TensorFlow dengan alias umum tf."
      ],
      "metadata": {
        "id": "CujeHCGSVMqt"
      }
    },
    {
      "cell_type": "code",
      "source": [
        "# Import Tensorflow\n",
        "import tensorflow as tf\n",
        "print(tf.__version__)"
      ],
      "metadata": {
        "colab": {
          "base_uri": "https://localhost:8080/"
        },
        "id": "Wiw3UdCAVGrG",
        "outputId": "6d7769af-14b4-4ec8-ec10-c5189b4ad55a"
      },
      "execution_count": null,
      "outputs": [
        {
          "output_type": "stream",
          "name": "stdout",
          "text": [
            "2.15.0\n"
          ]
        }
      ]
    },
    {
      "cell_type": "markdown",
      "source": [
        "## Creating Tensors with tf.constant()\n",
        "Seperti yang disebutkan sebelumnya, pada umumnya, Anda biasanya tidak akan membuat tensors sendiri. Hal ini karena TensorFlow memiliki modul bawaan (seperti `tf.io` dan `tf.data`) yang dapat membaca sumber data Anda dan secara otomatis mengonversinya menjadi tensors, kemudian nantinya, model jaringan saraf akan memprosesnya untuk kita.\n",
        "\n",
        "Namun untuk saat ini, karena kita sedang mengenal tensors sendiri dan bagaimana cara memanipulasinya, kita akan melihat bagaimana kita bisa membuatnya sendiri.\n",
        "\n",
        "Kita akan memulainya dengan menggunakan `tf.constant()`."
      ],
      "metadata": {
        "id": "cd8AQduGXTNZ"
      }
    },
    {
      "cell_type": "code",
      "source": [
        "# Buat scalar\n",
        "scalar = tf.constant(7)\n",
        "scalar"
      ],
      "metadata": {
        "colab": {
          "base_uri": "https://localhost:8080/"
        },
        "id": "2kriik1lXM98",
        "outputId": "814980c5-a531-451a-fe34-a07cf7cde51a"
      },
      "execution_count": null,
      "outputs": [
        {
          "output_type": "execute_result",
          "data": {
            "text/plain": [
              "<tf.Tensor: shape=(), dtype=int32, numpy=7>"
            ]
          },
          "metadata": {},
          "execution_count": 3
        }
      ]
    },
    {
      "cell_type": "markdown",
      "source": [
        "Sebuah skalar dikenal sebagai tensor peringkat 0. Karena tidak memiliki dimensi (hanya sebuah angka).\n",
        "\n",
        ">🔑 Catatan: Untuk saat ini, Anda tidak perlu mengetahui terlalu banyak tentang peringkat tensor yang berbeda (tetapi kita akan melihat lebih banyak tentang ini nanti). Titik pentingnya adalah mengetahui bahwa tensors dapat memiliki rentang dimensi yang tidak terbatas (jumlah yang tepat akan tergantung pada data yang Anda wakili).\n",
        "\n"
      ],
      "metadata": {
        "id": "S6CHbEKGXl8l"
      }
    },
    {
      "cell_type": "code",
      "source": [
        "# cek ukuran dimensinya\n",
        "scalar.ndim"
      ],
      "metadata": {
        "colab": {
          "base_uri": "https://localhost:8080/"
        },
        "id": "xZw8vvrwXkPG",
        "outputId": "fa1e8c5d-71cc-4031-cad4-7382e4b268ea"
      },
      "execution_count": null,
      "outputs": [
        {
          "output_type": "execute_result",
          "data": {
            "text/plain": [
              "0"
            ]
          },
          "metadata": {},
          "execution_count": 4
        }
      ]
    },
    {
      "cell_type": "code",
      "source": [
        "# Buat vektor\n",
        "vector = tf.constant([10, 10])\n",
        "vector"
      ],
      "metadata": {
        "colab": {
          "base_uri": "https://localhost:8080/"
        },
        "id": "F4PXfYTFX4CG",
        "outputId": "d67085aa-11a3-4591-ab8d-3f9b2fc2aa0d"
      },
      "execution_count": null,
      "outputs": [
        {
          "output_type": "execute_result",
          "data": {
            "text/plain": [
              "<tf.Tensor: shape=(2,), dtype=int32, numpy=array([10, 10], dtype=int32)>"
            ]
          },
          "metadata": {},
          "execution_count": 5
        }
      ]
    },
    {
      "cell_type": "code",
      "source": [
        "# Cek dimensi vector\n",
        "vector.ndim"
      ],
      "metadata": {
        "colab": {
          "base_uri": "https://localhost:8080/"
        },
        "id": "z62M8agIX9TN",
        "outputId": "822e8567-6e40-40ff-cf47-f78cfb69201b"
      },
      "execution_count": null,
      "outputs": [
        {
          "output_type": "execute_result",
          "data": {
            "text/plain": [
              "1"
            ]
          },
          "metadata": {},
          "execution_count": 6
        }
      ]
    },
    {
      "cell_type": "code",
      "source": [
        "# Buat matrix\n",
        "matrix = tf.constant([[10, 7],\n",
        "                      [7, 10]])\n",
        "matrix"
      ],
      "metadata": {
        "colab": {
          "base_uri": "https://localhost:8080/"
        },
        "id": "34K13nIyYAb2",
        "outputId": "73330c59-360a-4a14-e213-8883a0c6b3f2"
      },
      "execution_count": null,
      "outputs": [
        {
          "output_type": "execute_result",
          "data": {
            "text/plain": [
              "<tf.Tensor: shape=(2, 2), dtype=int32, numpy=\n",
              "array([[10,  7],\n",
              "       [ 7, 10]], dtype=int32)>"
            ]
          },
          "metadata": {},
          "execution_count": 7
        }
      ]
    },
    {
      "cell_type": "code",
      "source": [
        "matrix.ndim"
      ],
      "metadata": {
        "colab": {
          "base_uri": "https://localhost:8080/"
        },
        "id": "gUZwN_iNYEge",
        "outputId": "7eed98a3-9337-4aef-a3a6-8a4567948a35"
      },
      "execution_count": null,
      "outputs": [
        {
          "output_type": "execute_result",
          "data": {
            "text/plain": [
              "2"
            ]
          },
          "metadata": {},
          "execution_count": 8
        }
      ]
    },
    {
      "cell_type": "markdown",
      "source": [
        "\n",
        "Secara default, TensorFlow membuat tensors dengan tipe data `int32` atau `float32`.\n",
        "\n",
        "Ini dikenal sebagai presisi 32-bit (semakin tinggi angkanya, semakin presisi angkanya, semakin banyak ruang yang dibutuhkan di komputer Anda)."
      ],
      "metadata": {
        "id": "kbp5NpHBYLYN"
      }
    },
    {
      "cell_type": "code",
      "source": [
        "# Buat matrix lagi dengan mendefinisikan tipe datanya\n",
        "matrix2 = tf.constant([[10., 7.],\n",
        "                       [3., 2.],\n",
        "                       [8., 9.]], dtype=tf.float16)\n",
        "matrix2"
      ],
      "metadata": {
        "colab": {
          "base_uri": "https://localhost:8080/"
        },
        "id": "iK8ZSjqoYGrE",
        "outputId": "52c981a9-4c74-4516-edd6-065862ece813"
      },
      "execution_count": null,
      "outputs": [
        {
          "output_type": "execute_result",
          "data": {
            "text/plain": [
              "<tf.Tensor: shape=(3, 2), dtype=float16, numpy=\n",
              "array([[10.,  7.],\n",
              "       [ 3.,  2.],\n",
              "       [ 8.,  9.]], dtype=float16)>"
            ]
          },
          "metadata": {},
          "execution_count": 9
        }
      ]
    },
    {
      "cell_type": "code",
      "source": [
        "matrix2.ndim"
      ],
      "metadata": {
        "colab": {
          "base_uri": "https://localhost:8080/"
        },
        "id": "5bCiHZfuYfi6",
        "outputId": "d5ad3443-5ebc-4e97-83fb-8f4df3a4f344"
      },
      "execution_count": null,
      "outputs": [
        {
          "output_type": "execute_result",
          "data": {
            "text/plain": [
              "2"
            ]
          },
          "metadata": {},
          "execution_count": 10
        }
      ]
    },
    {
      "cell_type": "code",
      "source": [
        "# Buat tensor (lebih dari 2 dimensi)\n",
        "tensor = tf.constant([[[1, 2, 3],\n",
        "                       [4, 5, 6]],\n",
        "                      [[7,8,9],\n",
        "                       [10, 11, 12]],\n",
        "                      [[13, 14,15],\n",
        "                       [16, 17, 18]]])\n",
        "tensor"
      ],
      "metadata": {
        "colab": {
          "base_uri": "https://localhost:8080/"
        },
        "id": "wcPxJ-HRYhtF",
        "outputId": "2f1eb575-34e3-4353-f72c-7d1ef2de8002"
      },
      "execution_count": null,
      "outputs": [
        {
          "output_type": "execute_result",
          "data": {
            "text/plain": [
              "<tf.Tensor: shape=(3, 2, 3), dtype=int32, numpy=\n",
              "array([[[ 1,  2,  3],\n",
              "        [ 4,  5,  6]],\n",
              "\n",
              "       [[ 7,  8,  9],\n",
              "        [10, 11, 12]],\n",
              "\n",
              "       [[13, 14, 15],\n",
              "        [16, 17, 18]]], dtype=int32)>"
            ]
          },
          "metadata": {},
          "execution_count": 11
        }
      ]
    },
    {
      "cell_type": "code",
      "source": [
        "tensor.ndim"
      ],
      "metadata": {
        "colab": {
          "base_uri": "https://localhost:8080/"
        },
        "id": "us4mmr6iYw9X",
        "outputId": "cdf0289f-64d1-48da-91b3-06f9e8f6e30a"
      },
      "execution_count": null,
      "outputs": [
        {
          "output_type": "execute_result",
          "data": {
            "text/plain": [
              "3"
            ]
          },
          "metadata": {},
          "execution_count": 12
        }
      ]
    },
    {
      "cell_type": "code",
      "source": [
        "value = [\n",
        "    [[[1, 2, 3, 4, 5], [6, 7, 8, 9, 10], [11, 12, 13, 14, 15]],\n",
        "     [[16, 17, 18, 19, 20], [21, 22, 23, 24, 25], [26, 27, 28, 29, 30]],\n",
        "     [[31, 32, 33, 34, 35], [36, 37, 38, 39, 40], [41, 42, 43, 44, 45]]],\n",
        "    [[[46, 47, 48, 49, 50], [51, 52, 53, 54, 55], [56, 57, 58, 59, 60]],\n",
        "     [[61, 62, 63, 64, 65], [66, 67, 68, 69, 70], [71, 72, 73, 74, 75]],\n",
        "     [[76, 77, 78, 79, 80], [81, 82, 83, 84, 85], [86, 87, 88, 89, 90]]]\n",
        "]\n",
        "\n",
        "tensor2 = tf.constant(value)\n",
        "tensor2"
      ],
      "metadata": {
        "colab": {
          "base_uri": "https://localhost:8080/"
        },
        "id": "ug-qTdEDYzhk",
        "outputId": "c481564d-feea-43be-981e-3a9b3aaf7352"
      },
      "execution_count": null,
      "outputs": [
        {
          "output_type": "execute_result",
          "data": {
            "text/plain": [
              "<tf.Tensor: shape=(2, 3, 3, 5), dtype=int32, numpy=\n",
              "array([[[[ 1,  2,  3,  4,  5],\n",
              "         [ 6,  7,  8,  9, 10],\n",
              "         [11, 12, 13, 14, 15]],\n",
              "\n",
              "        [[16, 17, 18, 19, 20],\n",
              "         [21, 22, 23, 24, 25],\n",
              "         [26, 27, 28, 29, 30]],\n",
              "\n",
              "        [[31, 32, 33, 34, 35],\n",
              "         [36, 37, 38, 39, 40],\n",
              "         [41, 42, 43, 44, 45]]],\n",
              "\n",
              "\n",
              "       [[[46, 47, 48, 49, 50],\n",
              "         [51, 52, 53, 54, 55],\n",
              "         [56, 57, 58, 59, 60]],\n",
              "\n",
              "        [[61, 62, 63, 64, 65],\n",
              "         [66, 67, 68, 69, 70],\n",
              "         [71, 72, 73, 74, 75]],\n",
              "\n",
              "        [[76, 77, 78, 79, 80],\n",
              "         [81, 82, 83, 84, 85],\n",
              "         [86, 87, 88, 89, 90]]]], dtype=int32)>"
            ]
          },
          "metadata": {},
          "execution_count": 18
        }
      ]
    },
    {
      "cell_type": "code",
      "source": [
        "tensor2.ndim"
      ],
      "metadata": {
        "colab": {
          "base_uri": "https://localhost:8080/"
        },
        "id": "HBo16iSHZHYY",
        "outputId": "0d7fc334-b4cb-4b71-9246-82dc3b22e91e"
      },
      "execution_count": null,
      "outputs": [
        {
          "output_type": "execute_result",
          "data": {
            "text/plain": [
              "4"
            ]
          },
          "metadata": {},
          "execution_count": 19
        }
      ]
    },
    {
      "cell_type": "markdown",
      "source": [
        "Ini dikenal sebagai tensor peringkat 4 (4-dimensi), namun sebuah tensor dapat memiliki jumlah dimensi yang sewenang-wenang (tidak terbatas).\n",
        "\n",
        "Sebagai contoh, Anda mungkin mengubah serangkaian gambar menjadi tensors dengan bentuk (224, 224, 3, 32), di mana:\n",
        "\n",
        "* 224, 224 (dimensi pertama 2) adalah tinggi dan lebar gambar dalam piksel.\n",
        "\n",
        "* 3 adalah jumlah saluran warna dari gambar (merah, hijau, biru).\n",
        "\n",
        "* 32 adalah ukuran batch (jumlah gambar yang dilihat oleh jaringan saraf pada satu waktu).\n",
        "\n",
        "Semua variabel di atas yang telah kita buat sebenarnya adalah tensors. Tetapi Anda juga mungkin mendengar mereka disebut dengan nama-nama yang berbeda (yang kita berikan kepada mereka):\n",
        "\n",
        "* **skalar**: sebuah angka tunggal.\n",
        "\n",
        "* **vektor**: sebuah angka dengan arah (misalnya, kecepatan angin dengan arah).\n",
        "\n",
        "* **matriks**: sebuah array dua dimensi dari angka-angka.\n",
        "\n",
        "* **tensor**: sebuah array n-dimensi dari angka-angka (di mana n bisa menjadi angka apa pun, sebuah tensor dimensi 0 adalah skalar, sebuah tensor dimensi 1 adalah vektor).\n",
        "\n",
        "Untuk menambah kebingungan, istilah matriks dan tensor sering digunakan secara bergantian.\n",
        "\n",
        "Kedepannya, karena kita menggunakan TensorFlow, segala sesuatu yang kita rujuk dan gunakan akan menjadi tensors.\n",
        "\n",
        "Untuk informasi lebih lanjut tentang perbedaan matematis antara skalar, vektor, dan matriks, lihat posting [visual aljabar oleh Math is Fun](https://www.mathsisfun.com/algebra/scalar-vector-matrix.html)."
      ],
      "metadata": {
        "id": "00F-fp1haNQt"
      }
    },
    {
      "cell_type": "markdown",
      "source": [
        "![image.png](data:image/png;base64,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)"
      ],
      "metadata": {
        "id": "ccI6-6wC2EIW"
      }
    },
    {
      "cell_type": "markdown",
      "source": [
        "## Creating Tensors with tf.Variable()\n",
        "Anda juga dapat (meskipun kemungkinan jarang Anda lakukan, karena seringkali, saat bekerja dengan data, tensors dibuat untuk Anda secara otomatis) membuat tensors menggunakan `tf.Variable()`.\n",
        "\n",
        "Perbedaan antara `tf.Variable()` dan `tf.constant()` adalah tensors yang dibuat dengan `tf.constant()` bersifat tidak berubah (tidak bisa diubah, hanya dapat digunakan untuk membuat tensor baru), sedangkan, tensors yang dibuat dengan `tf.Variable()` bersifat dapat diubah (dapat diubah)."
      ],
      "metadata": {
        "id": "Op6CD41xcE5f"
      }
    },
    {
      "cell_type": "code",
      "source": [
        "# Buat tensor yang sama pakai tf.variable dan tf.constant()\n",
        "change_tensor = tf.Variable([10, 7])\n",
        "unchange_tensor = tf.constant([10, 7])\n",
        "change_tensor, unchange_tensor"
      ],
      "metadata": {
        "colab": {
          "base_uri": "https://localhost:8080/"
        },
        "id": "mBJjHothZXNn",
        "outputId": "8fb0251d-e538-4bd6-9c3e-079a674723c2"
      },
      "execution_count": null,
      "outputs": [
        {
          "output_type": "execute_result",
          "data": {
            "text/plain": [
              "(<tf.Variable 'Variable:0' shape=(2,) dtype=int32, numpy=array([10,  7], dtype=int32)>,\n",
              " <tf.Tensor: shape=(2,), dtype=int32, numpy=array([10,  7], dtype=int32)>)"
            ]
          },
          "metadata": {},
          "execution_count": 20
        }
      ]
    },
    {
      "cell_type": "markdown",
      "source": [
        "Now let's try to change one of the elements of the changable tensor."
      ],
      "metadata": {
        "id": "3f8hJkz9cngr"
      }
    },
    {
      "cell_type": "code",
      "source": [
        "# Tensor tidak seperti array bisa diganti valuenya dengan mencari alamat valuenya\n",
        "change_tensor[0] = 7\n",
        "change_tensor"
      ],
      "metadata": {
        "colab": {
          "base_uri": "https://localhost:8080/",
          "height": 159
        },
        "id": "ccQpawuTciXQ",
        "outputId": "abb46d60-abcb-49e9-e717-556e7e46edcc"
      },
      "execution_count": null,
      "outputs": [
        {
          "output_type": "error",
          "ename": "TypeError",
          "evalue": "'ResourceVariable' object does not support item assignment",
          "traceback": [
            "\u001b[0;31m---------------------------------------------------------------------------\u001b[0m",
            "\u001b[0;31mTypeError\u001b[0m                                 Traceback (most recent call last)",
            "\u001b[0;32m<ipython-input-21-913b3c3c1c3c>\u001b[0m in \u001b[0;36m<cell line: 1>\u001b[0;34m()\u001b[0m\n\u001b[0;32m----> 1\u001b[0;31m \u001b[0mchange_tensor\u001b[0m\u001b[0;34m[\u001b[0m\u001b[0;36m0\u001b[0m\u001b[0;34m]\u001b[0m \u001b[0;34m=\u001b[0m \u001b[0;36m7\u001b[0m\u001b[0;34m\u001b[0m\u001b[0;34m\u001b[0m\u001b[0m\n\u001b[0m\u001b[1;32m      2\u001b[0m \u001b[0mchange_tensor\u001b[0m\u001b[0;34m\u001b[0m\u001b[0;34m\u001b[0m\u001b[0m\n",
            "\u001b[0;31mTypeError\u001b[0m: 'ResourceVariable' object does not support item assignment"
          ]
        }
      ]
    },
    {
      "cell_type": "code",
      "source": [
        "# Harus pakai .assign() untuk merubah value tensor\n",
        "change_tensor[0].assign(7)\n",
        "change_tensor"
      ],
      "metadata": {
        "colab": {
          "base_uri": "https://localhost:8080/"
        },
        "id": "145rsfImcrrn",
        "outputId": "2ce2214c-3f18-4888-b9c6-154d237da931"
      },
      "execution_count": null,
      "outputs": [
        {
          "output_type": "execute_result",
          "data": {
            "text/plain": [
              "<tf.Variable 'Variable:0' shape=(2,) dtype=int32, numpy=array([7, 7], dtype=int32)>"
            ]
          },
          "metadata": {},
          "execution_count": 23
        }
      ]
    },
    {
      "cell_type": "markdown",
      "source": [
        "Now let's try to change a value in a tf.constant() tensor."
      ],
      "metadata": {
        "id": "Qe8ilbsuc8Xq"
      }
    },
    {
      "cell_type": "code",
      "source": [
        "# Gagal karena value dari tensor tf.constant tidak bisa diubah\n",
        "unchange_tensor[0].assign(7)\n",
        "unchange_tensor"
      ],
      "metadata": {
        "colab": {
          "base_uri": "https://localhost:8080/",
          "height": 315
        },
        "id": "0xZkFut6c3Q5",
        "outputId": "39a91bec-02c2-4500-8d1d-3a66063f386d"
      },
      "execution_count": null,
      "outputs": [
        {
          "output_type": "error",
          "ename": "AttributeError",
          "evalue": "'tensorflow.python.framework.ops.EagerTensor' object has no attribute 'assign'",
          "traceback": [
            "\u001b[0;31m---------------------------------------------------------------------------\u001b[0m",
            "\u001b[0;31mAttributeError\u001b[0m                            Traceback (most recent call last)",
            "\u001b[0;32m<ipython-input-25-46f54d6d942e>\u001b[0m in \u001b[0;36m<cell line: 2>\u001b[0;34m()\u001b[0m\n\u001b[1;32m      1\u001b[0m \u001b[0;31m# Gagal karena value dari tensor tf.constant tidak bisa diubah\u001b[0m\u001b[0;34m\u001b[0m\u001b[0;34m\u001b[0m\u001b[0m\n\u001b[0;32m----> 2\u001b[0;31m \u001b[0munchange_tensor\u001b[0m\u001b[0;34m[\u001b[0m\u001b[0;36m0\u001b[0m\u001b[0;34m]\u001b[0m\u001b[0;34m.\u001b[0m\u001b[0massign\u001b[0m\u001b[0;34m(\u001b[0m\u001b[0;36m7\u001b[0m\u001b[0;34m)\u001b[0m\u001b[0;34m\u001b[0m\u001b[0;34m\u001b[0m\u001b[0m\n\u001b[0m\u001b[1;32m      3\u001b[0m \u001b[0munchange_tensor\u001b[0m\u001b[0;34m\u001b[0m\u001b[0;34m\u001b[0m\u001b[0m\n",
            "\u001b[0;32m/usr/local/lib/python3.10/dist-packages/tensorflow/python/framework/tensor.py\u001b[0m in \u001b[0;36m__getattr__\u001b[0;34m(self, name)\u001b[0m\n\u001b[1;32m    259\u001b[0m         \u001b[0mtf\u001b[0m\u001b[0;34m.\u001b[0m\u001b[0mexperimental\u001b[0m\u001b[0;34m.\u001b[0m\u001b[0mnumpy\u001b[0m\u001b[0;34m.\u001b[0m\u001b[0mexperimental_enable_numpy_behavior\u001b[0m\u001b[0;34m(\u001b[0m\u001b[0;34m)\u001b[0m\u001b[0;34m\u001b[0m\u001b[0;34m\u001b[0m\u001b[0m\n\u001b[1;32m    260\u001b[0m       \"\"\")\n\u001b[0;32m--> 261\u001b[0;31m     \u001b[0mself\u001b[0m\u001b[0;34m.\u001b[0m\u001b[0m__getattribute__\u001b[0m\u001b[0;34m(\u001b[0m\u001b[0mname\u001b[0m\u001b[0;34m)\u001b[0m\u001b[0;34m\u001b[0m\u001b[0;34m\u001b[0m\u001b[0m\n\u001b[0m\u001b[1;32m    262\u001b[0m \u001b[0;34m\u001b[0m\u001b[0m\n\u001b[1;32m    263\u001b[0m   \u001b[0;34m@\u001b[0m\u001b[0mproperty\u001b[0m\u001b[0;34m\u001b[0m\u001b[0;34m\u001b[0m\u001b[0m\n",
            "\u001b[0;31mAttributeError\u001b[0m: 'tensorflow.python.framework.ops.EagerTensor' object has no attribute 'assign'"
          ]
        }
      ]
    },
    {
      "cell_type": "markdown",
      "source": [
        "Anda harus menggunakan `tf.constant()` jika Anda ingin membuat tensor yang tidak berubah, dan `tf.Variable()` jika Anda memerlukan tensor yang dapat diubah. Namun, dalam banyak kasus, TensorFlow akan memilih secara otomatis untuk Anda (saat memuat data atau memodelkan data)."
      ],
      "metadata": {
        "id": "Wd1c1WdedLIO"
      }
    },
    {
      "cell_type": "markdown",
      "source": [
        "## Creating random tensors\n",
        "Tensors acak adalah tensors dari beberapa ukuran yang mengandung angka-angka acak.\n",
        "\n",
        "Mengapa Anda ingin membuat tensors acak?\n",
        "\n",
        "Ini digunakan oleh jaringan saraf untuk menginisialisasi bobot (pola) yang mereka coba pelajari dalam data.\n",
        "\n",
        "Sebagai contoh, proses pembelajaran jaringan saraf sering melibatkan mengambil array angka acak n-dimensi dan menyempurnakannya hingga mewakili suatu pola (cara yang terkompresi untuk mewakili data asli)."
      ],
      "metadata": {
        "id": "BESY9EVfdPqn"
      }
    },
    {
      "cell_type": "markdown",
      "source": [
        "![image.png](data:image/png;base64,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)"
      ],
      "metadata": {
        "id": "rL0XRGuHej0S"
      }
    },
    {
      "cell_type": "markdown",
      "source": [
        "\n",
        "Sebuah jaringan belajar dengan memulai dengan pola acak, kemudian melalui contoh-contoh demonstratif dari data sambil mencoba memperbarui pola acaknya untuk merepresentasikan contoh-contoh tersebut.\n",
        "\n",
        "Kita dapat membuat tensors acak dengan menggunakan kelas `tf.random.Generator`."
      ],
      "metadata": {
        "id": "755ohD7eenqs"
      }
    },
    {
      "cell_type": "code",
      "source": [
        "# Buat 2 tensor random\n",
        "random1 = tf.random.Generator.from_seed(42) #from_seed agar pola acaknya tetap sama\n",
        "random1 = random1.normal(shape=(3,2)) #tensor dengan distribusi normal\n",
        "random2 = tf.random.Generator.from_seed(42)\n",
        "random2 = random2.normal(shape=(3,2))\n",
        "\n",
        "# Apa sama?\n",
        "random1, random2, random1 == random2"
      ],
      "metadata": {
        "id": "0c3cDYUEdAG4",
        "colab": {
          "base_uri": "https://localhost:8080/"
        },
        "outputId": "f4d573c9-e30b-4398-e6c2-abdb8d990c5e"
      },
      "execution_count": null,
      "outputs": [
        {
          "output_type": "execute_result",
          "data": {
            "text/plain": [
              "(<tf.Tensor: shape=(3, 2), dtype=float32, numpy=\n",
              " array([[-0.7565803 , -0.06854702],\n",
              "        [ 0.07595026, -1.2573844 ],\n",
              "        [-0.23193763, -1.8107855 ]], dtype=float32)>,\n",
              " <tf.Tensor: shape=(3, 2), dtype=float32, numpy=\n",
              " array([[-0.7565803 , -0.06854702],\n",
              "        [ 0.07595026, -1.2573844 ],\n",
              "        [-0.23193763, -1.8107855 ]], dtype=float32)>,\n",
              " <tf.Tensor: shape=(3, 2), dtype=bool, numpy=\n",
              " array([[ True,  True],\n",
              "        [ True,  True],\n",
              "        [ True,  True]])>)"
            ]
          },
          "metadata": {},
          "execution_count": 26
        }
      ]
    },
    {
      "cell_type": "markdown",
      "source": [
        "\n",
        "Ketika kita mengatur sebuah seed, kita memberikan instruksi kepada komputer untuk membuat serangkaian angka acak yang \"beraroma\" X. Artinya, dengan seed yang sama, kita akan selalu mendapatkan rangkaian angka acak yang sama. Namun, ketika kita mengubah seed, kita memberikan instruksi kepada komputer untuk membuat serangkaian angka acak yang *beraroma* yang berbeda.\n",
        "\n",
        "Jadi, ketika kita mengubah seed, kita akan mendapatkan serangkaian angka acak yang berbeda pula. Ini seperti memberikan *flavor* yang berbeda pada proses penciptaan angka acak."
      ],
      "metadata": {
        "id": "q8R1JcKOfkfp"
      }
    },
    {
      "cell_type": "code",
      "source": [
        "random3 = tf.random.Generator.from_seed(42)\n",
        "random3 = random3.normal(shape=(3,2))\n",
        "random4 = tf.random.Generator.from_seed(11)\n",
        "random4 = random4.normal(shape=(3,2))\n",
        "\n",
        "random3, random4, random3 == random4"
      ],
      "metadata": {
        "colab": {
          "base_uri": "https://localhost:8080/"
        },
        "id": "Zgok3Z0Fe-i9",
        "outputId": "2708f93c-f7f7-4619-9fe4-3c825d1b1501"
      },
      "execution_count": null,
      "outputs": [
        {
          "output_type": "execute_result",
          "data": {
            "text/plain": [
              "(<tf.Tensor: shape=(3, 2), dtype=float32, numpy=\n",
              " array([[-0.7565803 , -0.06854702],\n",
              "        [ 0.07595026, -1.2573844 ],\n",
              "        [-0.23193763, -1.8107855 ]], dtype=float32)>,\n",
              " <tf.Tensor: shape=(3, 2), dtype=float32, numpy=\n",
              " array([[ 0.27305737, -0.29925638],\n",
              "        [-0.3652325 ,  0.61883307],\n",
              "        [-1.0130816 ,  0.28291714]], dtype=float32)>,\n",
              " <tf.Tensor: shape=(3, 2), dtype=bool, numpy=\n",
              " array([[False, False],\n",
              "        [False, False],\n",
              "        [False, False]])>)"
            ]
          },
          "metadata": {},
          "execution_count": 27
        }
      ]
    },
    {
      "cell_type": "markdown",
      "source": [
        "\n",
        "Jika Anda ingin mengacak urutan sebuah tensor, Anda dapat melakukannya dengan menggunakan fungsi `tf.random.shuffle()`. Mengapa Anda ingin melakukan hal ini?\n",
        "\n",
        "Misalnya, Anda bekerja dengan 15.000 gambar kucing dan anjing, dan 10.000 gambar pertama adalah kucing, sedangkan 5.000 gambar berikutnya adalah anjing. Urutan ini dapat memengaruhi bagaimana jaringan saraf belajar (mungkin akan overfit dengan mempelajari urutan data). Sebagai gantinya, mungkin ide yang baik untuk mengacak data Anda sehingga kucing dan anjing muncul secara acak di seluruh dataset, sehingga jaringan saraf tidak akan mempelajari pola urutan tersebut."
      ],
      "metadata": {
        "id": "TNCcpkRHgFfK"
      }
    },
    {
      "cell_type": "code",
      "source": [
        "# acak urutan tensor\n",
        "tensor = tf.constant([[10, 7],\n",
        "                      [3, 4],\n",
        "                      [2, 5]])\n",
        "\n",
        "tf.random.shuffle(tensor)"
      ],
      "metadata": {
        "colab": {
          "base_uri": "https://localhost:8080/"
        },
        "id": "J1Tt4dWaf4qm",
        "outputId": "379909c2-a6bd-407d-f533-4b84a19d8266"
      },
      "execution_count": null,
      "outputs": [
        {
          "output_type": "execute_result",
          "data": {
            "text/plain": [
              "<tf.Tensor: shape=(3, 2), dtype=int32, numpy=\n",
              "array([[ 3,  4],\n",
              "       [10,  7],\n",
              "       [ 2,  5]], dtype=int32)>"
            ]
          },
          "metadata": {},
          "execution_count": 30
        }
      ]
    },
    {
      "cell_type": "code",
      "source": [
        "# parameter seed membantu agar acaknya tetap sama terus\n",
        "tf.random.shuffle(tensor, seed=1)"
      ],
      "metadata": {
        "colab": {
          "base_uri": "https://localhost:8080/"
        },
        "id": "wea71bgHgTXO",
        "outputId": "17db5bd8-6bd2-4bea-8bc0-506c8c756a05"
      },
      "execution_count": null,
      "outputs": [
        {
          "output_type": "execute_result",
          "data": {
            "text/plain": [
              "<tf.Tensor: shape=(3, 2), dtype=int32, numpy=\n",
              "array([[ 3,  4],\n",
              "       [10,  7],\n",
              "       [ 2,  5]], dtype=int32)>"
            ]
          },
          "metadata": {},
          "execution_count": 34
        }
      ]
    },
    {
      "cell_type": "markdown",
      "source": [
        "Penyebab angka-angka tidak sama adalah karena aturan keempat dalam dokumentasi `tf.random.set_seed()`:\n",
        "\n",
        ">\"Jika kedua seed global dan operasi diatur: Kedua seed digunakan bersama-sama untuk menentukan urutan acak.\"\n",
        "\n",
        "`tf.random.set_seed(42)` menetapkan seed global, dan parameter seed dalam `tf.random.shuffle(seed=42)` menetapkan seed operasi.\n",
        "\n",
        "Karena \"Operasi yang bergantung pada seed acak sebenarnya mendapatkan seed dari dua seed: seed global dan seed tingkat operasi. Ini menetapkan seed global.\""
      ],
      "metadata": {
        "id": "lVkcuOgrkr28"
      }
    },
    {
      "cell_type": "code",
      "source": [
        "# Buat dengan 2 seed (global & lokal)\n",
        "\n",
        "# Global seed\n",
        "tf.random.set_seed(42)\n",
        "\n",
        "# Operation seed\n",
        "tf.random.shuffle(tensor, seed=42)"
      ],
      "metadata": {
        "colab": {
          "base_uri": "https://localhost:8080/"
        },
        "id": "cv1QABljgekk",
        "outputId": "b44c6909-5d2e-4a1a-fd55-8e3a2fe2faf2"
      },
      "execution_count": null,
      "outputs": [
        {
          "output_type": "execute_result",
          "data": {
            "text/plain": [
              "<tf.Tensor: shape=(3, 2), dtype=int32, numpy=\n",
              "array([[10,  7],\n",
              "       [ 3,  4],\n",
              "       [ 2,  5]], dtype=int32)>"
            ]
          },
          "metadata": {},
          "execution_count": 58
        }
      ]
    },
    {
      "cell_type": "code",
      "source": [
        "# Global seed\n",
        "tf.random.set_seed(42)\n",
        "\n",
        "# Operation seed\n",
        "tf.random.shuffle(tensor)"
      ],
      "metadata": {
        "colab": {
          "base_uri": "https://localhost:8080/"
        },
        "id": "oyrqlP_3lB44",
        "outputId": "e912fd41-8c7d-4d28-801a-ff4560d6548f"
      },
      "execution_count": null,
      "outputs": [
        {
          "output_type": "execute_result",
          "data": {
            "text/plain": [
              "<tf.Tensor: shape=(3, 2), dtype=int32, numpy=\n",
              "array([[ 3,  4],\n",
              "       [ 2,  5],\n",
              "       [10,  7]], dtype=int32)>"
            ]
          },
          "metadata": {},
          "execution_count": 60
        }
      ]
    },
    {
      "cell_type": "markdown",
      "source": [
        "## Other ways to make tensors\n",
        "\n",
        "Meskipun Anda mungkin jarang menggunakannya (ingat, banyak operasi tensor dilakukan di belakang layar untuk Anda), Anda dapat menggunakan tf.ones() untuk membuat tensor yang berisi semua nilai satu dan tf.zeros() untuk membuat tensor yang berisi semua nilai nol."
      ],
      "metadata": {
        "id": "Y8C0Vjvnl1ci"
      }
    },
    {
      "cell_type": "code",
      "source": [
        "# Buat tensor semua valuenya 1 (default valuenya float32)\n",
        "tf.ones(shape=(2,2), dtype=tf.int32)"
      ],
      "metadata": {
        "colab": {
          "base_uri": "https://localhost:8080/"
        },
        "id": "pdr2Nk1blzi2",
        "outputId": "7de60152-12a3-4601-dc8c-33fe42a9d685"
      },
      "execution_count": null,
      "outputs": [
        {
          "output_type": "execute_result",
          "data": {
            "text/plain": [
              "<tf.Tensor: shape=(2, 2), dtype=int32, numpy=\n",
              "array([[1, 1],\n",
              "       [1, 1]], dtype=int32)>"
            ]
          },
          "metadata": {},
          "execution_count": 63
        }
      ]
    },
    {
      "cell_type": "code",
      "source": [
        "# Buat tensor semua valuenya 0\n",
        "tf.zeros(shape=(2,2))"
      ],
      "metadata": {
        "colab": {
          "base_uri": "https://localhost:8080/"
        },
        "id": "8oftkxVfmBSq",
        "outputId": "25f5d956-fd44-4496-9885-1201d2826fa3"
      },
      "execution_count": null,
      "outputs": [
        {
          "output_type": "execute_result",
          "data": {
            "text/plain": [
              "<tf.Tensor: shape=(2, 2), dtype=float32, numpy=\n",
              "array([[0., 0.],\n",
              "       [0., 0.]], dtype=float32)>"
            ]
          },
          "metadata": {},
          "execution_count": 64
        }
      ]
    },
    {
      "cell_type": "markdown",
      "source": [
        "\n",
        "Anda juga dapat mengubah array NumPy menjadi tensors.\n",
        "\n",
        "Ingat, perbedaan utama antara tensors dan array NumPy adalah bahwa tensors dapat dijalankan pada GPU.\n",
        "\n",
        ">🔑 Catatan: Sebuah matriks atau tensor biasanya direpresentasikan dengan huruf besar (misalnya `X` atau `A`), sedangkan sebuah vektor biasanya direpresentasikan dengan huruf kecil (misalnya `y` atau `b`)."
      ],
      "metadata": {
        "id": "fOgztWsEmb9v"
      }
    },
    {
      "cell_type": "code",
      "source": [
        "import numpy as np\n",
        "numpyA = np.arange(1, 25, dtype=np.int32) #Buat NumPy array antara 1 dan 25 (24 value)\n",
        "A = tf.constant(numpyA, shape=[2,4,3]) #shape total harus sama dengan numpyA (2*4*3 = 24 value)\n",
        "numpyA, A"
      ],
      "metadata": {
        "colab": {
          "base_uri": "https://localhost:8080/"
        },
        "id": "meaRe7DYmQrz",
        "outputId": "c69f4066-6850-4cf9-facd-d47a90c5ff05"
      },
      "execution_count": null,
      "outputs": [
        {
          "output_type": "execute_result",
          "data": {
            "text/plain": [
              "(array([ 1,  2,  3,  4,  5,  6,  7,  8,  9, 10, 11, 12, 13, 14, 15, 16, 17,\n",
              "        18, 19, 20, 21, 22, 23, 24], dtype=int32),\n",
              " <tf.Tensor: shape=(2, 4, 3), dtype=int32, numpy=\n",
              " array([[[ 1,  2,  3],\n",
              "         [ 4,  5,  6],\n",
              "         [ 7,  8,  9],\n",
              "         [10, 11, 12]],\n",
              " \n",
              "        [[13, 14, 15],\n",
              "         [16, 17, 18],\n",
              "         [19, 20, 21],\n",
              "         [22, 23, 24]]], dtype=int32)>)"
            ]
          },
          "metadata": {},
          "execution_count": 69
        }
      ]
    },
    {
      "cell_type": "markdown",
      "source": [
        "## Getting information from tensors (shape, rank, size)\n",
        "\n",
        "\n",
        "Ada saat-saat di mana Anda akan ingin mendapatkan berbagai informasi dari tensors Anda, terutama, Anda harus mengetahui kosakata tensor berikut:\n",
        "\n",
        "* Bentuk (Shape): Panjang (jumlah elemen) dari setiap dimensi dari sebuah tensor.\n",
        "* Peringkat (Rank): Jumlah dimensi tensor. Sebuah skalar memiliki peringkat 0, sebuah vektor memiliki peringkat 1, sebuah matriks memiliki peringkat 2, sebuah tensor memiliki peringkat n.\n",
        "* Sumbu atau Dimensi (Axis or Dimension): Dimensi tertentu dari sebuah tensor.\n",
        "* Ukuran (Size): Jumlah total item dalam tensor tersebut.\n",
        "\n",
        "Anda akan menggunakan ini terutama ketika Anda mencoba untuk menyesuaikan bentuk data Anda dengan bentuk model Anda. Misalnya, memastikan bahwa bentuk tensor gambar Anda adalah sama dengan bentuk lapisan input model Anda.\n",
        "\n",
        "Kita telah melihat salah satunya sebelumnya menggunakan atribut ndim. Mari kita lihat yang lainnya."
      ],
      "metadata": {
        "id": "AOxRJUfxnK05"
      }
    },
    {
      "cell_type": "code",
      "source": [
        "# Buat tensor rank 4\n",
        "rank_4 = tf.zeros([2,3,4,5])\n",
        "rank_4"
      ],
      "metadata": {
        "colab": {
          "base_uri": "https://localhost:8080/"
        },
        "id": "urj_LdlKmtb8",
        "outputId": "43cbe4e5-8e2d-4e14-d0e2-88925d81a05c"
      },
      "execution_count": null,
      "outputs": [
        {
          "output_type": "execute_result",
          "data": {
            "text/plain": [
              "<tf.Tensor: shape=(2, 3, 4, 5), dtype=float32, numpy=\n",
              "array([[[[0., 0., 0., 0., 0.],\n",
              "         [0., 0., 0., 0., 0.],\n",
              "         [0., 0., 0., 0., 0.],\n",
              "         [0., 0., 0., 0., 0.]],\n",
              "\n",
              "        [[0., 0., 0., 0., 0.],\n",
              "         [0., 0., 0., 0., 0.],\n",
              "         [0., 0., 0., 0., 0.],\n",
              "         [0., 0., 0., 0., 0.]],\n",
              "\n",
              "        [[0., 0., 0., 0., 0.],\n",
              "         [0., 0., 0., 0., 0.],\n",
              "         [0., 0., 0., 0., 0.],\n",
              "         [0., 0., 0., 0., 0.]]],\n",
              "\n",
              "\n",
              "       [[[0., 0., 0., 0., 0.],\n",
              "         [0., 0., 0., 0., 0.],\n",
              "         [0., 0., 0., 0., 0.],\n",
              "         [0., 0., 0., 0., 0.]],\n",
              "\n",
              "        [[0., 0., 0., 0., 0.],\n",
              "         [0., 0., 0., 0., 0.],\n",
              "         [0., 0., 0., 0., 0.],\n",
              "         [0., 0., 0., 0., 0.]],\n",
              "\n",
              "        [[0., 0., 0., 0., 0.],\n",
              "         [0., 0., 0., 0., 0.],\n",
              "         [0., 0., 0., 0., 0.],\n",
              "         [0., 0., 0., 0., 0.]]]], dtype=float32)>"
            ]
          },
          "metadata": {},
          "execution_count": 71
        }
      ]
    },
    {
      "cell_type": "code",
      "source": [
        "rank_4.shape, rank_4.ndim, tf.size(rank_4)"
      ],
      "metadata": {
        "colab": {
          "base_uri": "https://localhost:8080/"
        },
        "id": "qYDPQe9GniBn",
        "outputId": "48c83034-ebc4-4140-ce29-5231dd102da0"
      },
      "execution_count": null,
      "outputs": [
        {
          "output_type": "execute_result",
          "data": {
            "text/plain": [
              "(TensorShape([2, 3, 4, 5]), 4, <tf.Tensor: shape=(), dtype=int32, numpy=120>)"
            ]
          },
          "metadata": {},
          "execution_count": 72
        }
      ]
    },
    {
      "cell_type": "code",
      "source": [
        "# Fetch semua beberapa atribut\n",
        "print(\"Datatype setial element: \", rank_4.dtype)\n",
        "print(\"Number of dimensions (rank): \", rank_4.ndim)\n",
        "print(\"Shape of tensor: \", rank_4.shape)\n",
        "print(\"Elements along axis 0 of tensor: \", rank_4.shape[0])\n",
        "print(\"Elements along last axis of tensor: \", rank_4.shape[-1])\n",
        "print(\"Total number of elements (2*3*4*5): \", tf.size(rank_4).numpy())\n"
      ],
      "metadata": {
        "colab": {
          "base_uri": "https://localhost:8080/"
        },
        "id": "iuAJJ7fAnovV",
        "outputId": "00fc3901-003d-4ecd-b3c7-7481d3c5d77b"
      },
      "execution_count": null,
      "outputs": [
        {
          "output_type": "stream",
          "name": "stdout",
          "text": [
            "Datatype setial element:  <dtype: 'float32'>\n",
            "Number of dimensions (rank):  4\n",
            "Shape of tensor:  (2, 3, 4, 5)\n",
            "Elements along axis 0 of tensor:  2\n",
            "Elements along last axis of tensor:  5\n",
            "Total number of elements (2*3*4*5):  120\n"
          ]
        }
      ]
    },
    {
      "cell_type": "markdown",
      "source": [
        "Anda juga dapat mengindeks tensors seperti halnya dengan list Python."
      ],
      "metadata": {
        "id": "4kgay7sSoJOX"
      }
    },
    {
      "cell_type": "code",
      "source": [
        "rank_4[:2, :2, :2, :2]"
      ],
      "metadata": {
        "colab": {
          "base_uri": "https://localhost:8080/"
        },
        "id": "u_01tf7NoEMJ",
        "outputId": "eb1fd86b-6f0d-45c1-aa65-3bdb3ebdad74"
      },
      "execution_count": null,
      "outputs": [
        {
          "output_type": "execute_result",
          "data": {
            "text/plain": [
              "<tf.Tensor: shape=(2, 2, 2, 2), dtype=float32, numpy=\n",
              "array([[[[0., 0.],\n",
              "         [0., 0.]],\n",
              "\n",
              "        [[0., 0.],\n",
              "         [0., 0.]]],\n",
              "\n",
              "\n",
              "       [[[0., 0.],\n",
              "         [0., 0.]],\n",
              "\n",
              "        [[0., 0.],\n",
              "         [0., 0.]]]], dtype=float32)>"
            ]
          },
          "metadata": {},
          "execution_count": 75
        }
      ]
    },
    {
      "cell_type": "code",
      "source": [
        "rank_4[:1, :1, :1, :]"
      ],
      "metadata": {
        "id": "PKykj8UUoLka",
        "colab": {
          "base_uri": "https://localhost:8080/"
        },
        "outputId": "d04f3b2f-f034-4f8e-c352-0ce879fd9014"
      },
      "execution_count": 76,
      "outputs": [
        {
          "output_type": "execute_result",
          "data": {
            "text/plain": [
              "<tf.Tensor: shape=(1, 1, 1, 5), dtype=float32, numpy=array([[[[0., 0., 0., 0., 0.]]]], dtype=float32)>"
            ]
          },
          "metadata": {},
          "execution_count": 76
        }
      ]
    },
    {
      "cell_type": "code",
      "source": [
        "# Buat tensor 2D\n",
        "rank_2 = tf.constant([[10, 7, 2],\n",
        "                     [3, 5, 9]])\n",
        "\n",
        "rank_2[:, -1] # value terakhir di setiap elemen"
      ],
      "metadata": {
        "colab": {
          "base_uri": "https://localhost:8080/"
        },
        "id": "wv_tpN-v2ZJv",
        "outputId": "b6b75bec-1058-4add-df48-06f86f2a323c"
      },
      "execution_count": 88,
      "outputs": [
        {
          "output_type": "execute_result",
          "data": {
            "text/plain": [
              "<tf.Tensor: shape=(2,), dtype=int32, numpy=array([2, 9], dtype=int32)>"
            ]
          },
          "metadata": {},
          "execution_count": 88
        }
      ]
    },
    {
      "cell_type": "markdown",
      "source": [
        "Anda juga dapat menambah dimensi pada tensor Anda sambil tetap mempertahankan informasi yang sama menggunakan `tf.newaxis`."
      ],
      "metadata": {
        "id": "tdIu6W4i27FA"
      }
    },
    {
      "cell_type": "code",
      "source": [
        "# Tambah ekstra dimensi (di akhir)\n",
        "rank_3 = rank_2[..., tf.newaxis]\n",
        "rank_2, rank_3"
      ],
      "metadata": {
        "colab": {
          "base_uri": "https://localhost:8080/"
        },
        "id": "Eb2U6zr42ilu",
        "outputId": "d8a48bdf-d8da-4385-9cd4-79e0b78b17c8"
      },
      "execution_count": 89,
      "outputs": [
        {
          "output_type": "execute_result",
          "data": {
            "text/plain": [
              "(<tf.Tensor: shape=(2, 3), dtype=int32, numpy=\n",
              " array([[10,  7,  2],\n",
              "        [ 3,  5,  9]], dtype=int32)>,\n",
              " <tf.Tensor: shape=(2, 3, 1), dtype=int32, numpy=\n",
              " array([[[10],\n",
              "         [ 7],\n",
              "         [ 2]],\n",
              " \n",
              "        [[ 3],\n",
              "         [ 5],\n",
              "         [ 9]]], dtype=int32)>)"
            ]
          },
          "metadata": {},
          "execution_count": 89
        }
      ]
    },
    {
      "cell_type": "markdown",
      "source": [
        "Anda juga dapat mencapai hal yang sama menggunakan `tf.expand_dims()`."
      ],
      "metadata": {
        "id": "VRFuIfBX3MHq"
      }
    },
    {
      "cell_type": "code",
      "source": [
        "tf.expand_dims(rank_2, axis=2)"
      ],
      "metadata": {
        "colab": {
          "base_uri": "https://localhost:8080/"
        },
        "id": "DR03FEnA3E6T",
        "outputId": "07ec9234-d131-4785-f595-fc526e5160ae"
      },
      "execution_count": 92,
      "outputs": [
        {
          "output_type": "execute_result",
          "data": {
            "text/plain": [
              "<tf.Tensor: shape=(2, 3, 1), dtype=int32, numpy=\n",
              "array([[[10],\n",
              "        [ 7],\n",
              "        [ 2]],\n",
              "\n",
              "       [[ 3],\n",
              "        [ 5],\n",
              "        [ 9]]], dtype=int32)>"
            ]
          },
          "metadata": {},
          "execution_count": 92
        }
      ]
    },
    {
      "cell_type": "markdown",
      "source": [
        "## Manipulating tensors (tensor operations)\n",
        "Menemukan pola dalam tensors (representasi numerik data) memerlukan manipulasi mereka.\n",
        "\n",
        "Sekali lagi, ketika membangun model di TensorFlow, sebagian besar dari penemuan pola ini dilakukan untuk Anda."
      ],
      "metadata": {
        "id": "0NKL2YMR3jIZ"
      }
    },
    {
      "cell_type": "markdown",
      "source": [
        "### Basic operations\n",
        "Anda dapat melakukan banyak operasi matematika dasar langsung pada tensors menggunakan operator Python seperti `+`, `-`, `*`."
      ],
      "metadata": {
        "id": "EJlacUgN3nnC"
      }
    },
    {
      "cell_type": "code",
      "source": [
        "# penjumlahan tensor\n",
        "tensor = tf.constant([[10, 7],\n",
        "                     [3, 4]])\n",
        "tensor + 10"
      ],
      "metadata": {
        "colab": {
          "base_uri": "https://localhost:8080/"
        },
        "id": "dgvI8gDQ3Qpu",
        "outputId": "69284260-4755-4746-a9b0-e8b4d1f8cb63"
      },
      "execution_count": 93,
      "outputs": [
        {
          "output_type": "execute_result",
          "data": {
            "text/plain": [
              "<tf.Tensor: shape=(2, 2), dtype=int32, numpy=\n",
              "array([[20, 17],\n",
              "       [13, 14]], dtype=int32)>"
            ]
          },
          "metadata": {},
          "execution_count": 93
        }
      ]
    },
    {
      "cell_type": "markdown",
      "source": [
        "Karena kita menggunakan tf.constant(), tensor asli tidak berubah (penambahan dilakukan pada salinan)."
      ],
      "metadata": {
        "id": "WtB_w4is5Nln"
      }
    },
    {
      "cell_type": "code",
      "source": [
        "tensor"
      ],
      "metadata": {
        "colab": {
          "base_uri": "https://localhost:8080/"
        },
        "id": "OLHrPhnU5Ik5",
        "outputId": "17d1d65c-a1e4-4b91-d091-234b7be39574"
      },
      "execution_count": 94,
      "outputs": [
        {
          "output_type": "execute_result",
          "data": {
            "text/plain": [
              "<tf.Tensor: shape=(2, 2), dtype=int32, numpy=\n",
              "array([[10,  7],\n",
              "       [ 3,  4]], dtype=int32)>"
            ]
          },
          "metadata": {},
          "execution_count": 94
        }
      ]
    },
    {
      "cell_type": "markdown",
      "source": [
        "Operator lain juga berfungsi."
      ],
      "metadata": {
        "id": "1hJ5qC5P5SCz"
      }
    },
    {
      "cell_type": "code",
      "source": [
        "tensor * 10"
      ],
      "metadata": {
        "colab": {
          "base_uri": "https://localhost:8080/"
        },
        "id": "JhiJ46225Obe",
        "outputId": "d8cc92f7-ea33-4d98-c266-341ded86daef"
      },
      "execution_count": 95,
      "outputs": [
        {
          "output_type": "execute_result",
          "data": {
            "text/plain": [
              "<tf.Tensor: shape=(2, 2), dtype=int32, numpy=\n",
              "array([[100,  70],\n",
              "       [ 30,  40]], dtype=int32)>"
            ]
          },
          "metadata": {},
          "execution_count": 95
        }
      ]
    },
    {
      "cell_type": "code",
      "source": [
        "tensor - 10"
      ],
      "metadata": {
        "colab": {
          "base_uri": "https://localhost:8080/"
        },
        "id": "Mv1GmnEP5UfP",
        "outputId": "c5ebf395-023e-434a-ff0b-ce962f35f920"
      },
      "execution_count": 96,
      "outputs": [
        {
          "output_type": "execute_result",
          "data": {
            "text/plain": [
              "<tf.Tensor: shape=(2, 2), dtype=int32, numpy=\n",
              "array([[ 0, -3],\n",
              "       [-7, -6]], dtype=int32)>"
            ]
          },
          "metadata": {},
          "execution_count": 96
        }
      ]
    },
    {
      "cell_type": "markdown",
      "source": [
        "Anda juga dapat menggunakan fungsi TensorFlow yang setara. Menggunakan fungsi TensorFlow (jika memungkinkan) akan membuat proses lebih cepat saat dijalankan sebagai bagian dari graf TensorFlow."
      ],
      "metadata": {
        "id": "jZ9-BIaL5ea-"
      }
    },
    {
      "cell_type": "code",
      "source": [
        "tf.multiply(tensor, 10)"
      ],
      "metadata": {
        "colab": {
          "base_uri": "https://localhost:8080/"
        },
        "id": "iNI6GgJi5Vx_",
        "outputId": "67fb16c7-b91e-4c15-f455-de560e8d8012"
      },
      "execution_count": 97,
      "outputs": [
        {
          "output_type": "execute_result",
          "data": {
            "text/plain": [
              "<tf.Tensor: shape=(2, 2), dtype=int32, numpy=\n",
              "array([[100,  70],\n",
              "       [ 30,  40]], dtype=int32)>"
            ]
          },
          "metadata": {},
          "execution_count": 97
        }
      ]
    },
    {
      "cell_type": "code",
      "source": [
        "# tensor awalnya tidak berubah karena kita membuat tensornya pakai tf.constant()\n",
        "tensor"
      ],
      "metadata": {
        "colab": {
          "base_uri": "https://localhost:8080/"
        },
        "id": "g7wM_LyW5hoS",
        "outputId": "4c10713e-7495-4c62-9fff-62895974552f"
      },
      "execution_count": 98,
      "outputs": [
        {
          "output_type": "execute_result",
          "data": {
            "text/plain": [
              "<tf.Tensor: shape=(2, 2), dtype=int32, numpy=\n",
              "array([[10,  7],\n",
              "       [ 3,  4]], dtype=int32)>"
            ]
          },
          "metadata": {},
          "execution_count": 98
        }
      ]
    },
    {
      "cell_type": "markdown",
      "source": [
        "### Matrix multiplication\n",
        "Salah satu operasi yang paling umum dalam algoritma pembelajaran mesin adalah perkalian matriks.\n",
        "\n",
        "TensorFlow mengimplementasikan fungsionalitas perkalian matriks ini dalam metode `tf.matmul()`.\n",
        "\n",
        "Dua aturan utama untuk perkalian matriks yang perlu diingat adalah:\n",
        "\n",
        "1. Dimensi dalam harus sama:\n",
        "* `(3, 5) @ (3, 5)` tidak akan bisa\n",
        "* `(5, 3) @ (3, 5)` bisa\n",
        "* `(3, 5) @ (5, 3)` bisa\n",
        "\n",
        "2. Matrix hasil akan memiliki dimensi sama seperti dimensi matrix yang dikalikan\n",
        "* `(5, 3) @ (3, 5)` -> `(5, 5)`\n",
        "* `(3, 5) @ (5, 3)` -> `(3, 3)`"
      ],
      "metadata": {
        "id": "BLA3HpRl5ogD"
      }
    },
    {
      "cell_type": "code",
      "source": [
        "# Perkalian matrix di TensorFlow\n",
        "print(tensor)\n",
        "tf.matmul(tensor, tensor)"
      ],
      "metadata": {
        "colab": {
          "base_uri": "https://localhost:8080/"
        },
        "id": "78AZYTsF5irs",
        "outputId": "65113a5d-c58c-477a-84b9-303b6807ac45"
      },
      "execution_count": 99,
      "outputs": [
        {
          "output_type": "stream",
          "name": "stdout",
          "text": [
            "tf.Tensor(\n",
            "[[10  7]\n",
            " [ 3  4]], shape=(2, 2), dtype=int32)\n"
          ]
        },
        {
          "output_type": "execute_result",
          "data": {
            "text/plain": [
              "<tf.Tensor: shape=(2, 2), dtype=int32, numpy=\n",
              "array([[121,  98],\n",
              "       [ 42,  37]], dtype=int32)>"
            ]
          },
          "metadata": {},
          "execution_count": 99
        }
      ]
    },
    {
      "cell_type": "code",
      "source": [
        "# Perkalian matrix dengan operator dari Python '@'\n",
        "tensor @ tensor"
      ],
      "metadata": {
        "colab": {
          "base_uri": "https://localhost:8080/"
        },
        "id": "rjQyR9cC7Qb0",
        "outputId": "5ed3a3b7-95ae-485c-d160-d60caa4f7f37"
      },
      "execution_count": 100,
      "outputs": [
        {
          "output_type": "execute_result",
          "data": {
            "text/plain": [
              "<tf.Tensor: shape=(2, 2), dtype=int32, numpy=\n",
              "array([[121,  98],\n",
              "       [ 42,  37]], dtype=int32)>"
            ]
          },
          "metadata": {},
          "execution_count": 100
        }
      ]
    },
    {
      "cell_type": "markdown",
      "source": [
        "Kedua contoh tersebut berhasil karena variabel tensor kita memiliki bentuk (2, 2).\n",
        "\n",
        "Bagaimana jika kita membuat beberapa tensor yang memiliki bentuk yang tidak sesuai?"
      ],
      "metadata": {
        "id": "uaanVPC67c9y"
      }
    },
    {
      "cell_type": "code",
      "source": [
        "# Buat tensor (3,2)\n",
        "X = tf.constant([[1, 2],\n",
        "                [3, 4],\n",
        "                [5, 6]])\n",
        "\n",
        "# Buat tensor (3, 2) lagi\n",
        "Y = tf.constant([[7, 8],\n",
        "                 [9, 10],\n",
        "                 [11, 12]])\n",
        "\n",
        "X, Y\n",
        ""
      ],
      "metadata": {
        "colab": {
          "base_uri": "https://localhost:8080/"
        },
        "id": "MilkBNWF7XSH",
        "outputId": "de0f149b-c6be-4fd8-cbf9-2eaf7ac652f7"
      },
      "execution_count": 101,
      "outputs": [
        {
          "output_type": "execute_result",
          "data": {
            "text/plain": [
              "(<tf.Tensor: shape=(3, 2), dtype=int32, numpy=\n",
              " array([[1, 2],\n",
              "        [3, 4],\n",
              "        [5, 6]], dtype=int32)>,\n",
              " <tf.Tensor: shape=(3, 2), dtype=int32, numpy=\n",
              " array([[ 7,  8],\n",
              "        [ 9, 10],\n",
              "        [11, 12]], dtype=int32)>)"
            ]
          },
          "metadata": {},
          "execution_count": 101
        }
      ]
    },
    {
      "cell_type": "code",
      "source": [
        "X @ Y"
      ],
      "metadata": {
        "colab": {
          "base_uri": "https://localhost:8080/",
          "height": 356
        },
        "id": "v0tGvCjE7q2x",
        "outputId": "32b96008-8353-462a-8388-04b48c97db4c"
      },
      "execution_count": 102,
      "outputs": [
        {
          "output_type": "error",
          "ename": "InvalidArgumentError",
          "evalue": "{{function_node __wrapped__MatMul_device_/job:localhost/replica:0/task:0/device:CPU:0}} Matrix size-incompatible: In[0]: [3,2], In[1]: [3,2] [Op:MatMul] name: ",
          "traceback": [
            "\u001b[0;31m---------------------------------------------------------------------------\u001b[0m",
            "\u001b[0;31mInvalidArgumentError\u001b[0m                      Traceback (most recent call last)",
            "\u001b[0;32m<ipython-input-102-7db1014e61e3>\u001b[0m in \u001b[0;36m<cell line: 1>\u001b[0;34m()\u001b[0m\n\u001b[0;32m----> 1\u001b[0;31m \u001b[0mX\u001b[0m \u001b[0;34m@\u001b[0m \u001b[0mY\u001b[0m\u001b[0;34m\u001b[0m\u001b[0;34m\u001b[0m\u001b[0m\n\u001b[0m",
            "\u001b[0;32m/usr/local/lib/python3.10/dist-packages/tensorflow/python/util/traceback_utils.py\u001b[0m in \u001b[0;36merror_handler\u001b[0;34m(*args, **kwargs)\u001b[0m\n\u001b[1;32m    151\u001b[0m     \u001b[0;32mexcept\u001b[0m \u001b[0mException\u001b[0m \u001b[0;32mas\u001b[0m \u001b[0me\u001b[0m\u001b[0;34m:\u001b[0m\u001b[0;34m\u001b[0m\u001b[0;34m\u001b[0m\u001b[0m\n\u001b[1;32m    152\u001b[0m       \u001b[0mfiltered_tb\u001b[0m \u001b[0;34m=\u001b[0m \u001b[0m_process_traceback_frames\u001b[0m\u001b[0;34m(\u001b[0m\u001b[0me\u001b[0m\u001b[0;34m.\u001b[0m\u001b[0m__traceback__\u001b[0m\u001b[0;34m)\u001b[0m\u001b[0;34m\u001b[0m\u001b[0;34m\u001b[0m\u001b[0m\n\u001b[0;32m--> 153\u001b[0;31m       \u001b[0;32mraise\u001b[0m \u001b[0me\u001b[0m\u001b[0;34m.\u001b[0m\u001b[0mwith_traceback\u001b[0m\u001b[0;34m(\u001b[0m\u001b[0mfiltered_tb\u001b[0m\u001b[0;34m)\u001b[0m \u001b[0;32mfrom\u001b[0m \u001b[0;32mNone\u001b[0m\u001b[0;34m\u001b[0m\u001b[0;34m\u001b[0m\u001b[0m\n\u001b[0m\u001b[1;32m    154\u001b[0m     \u001b[0;32mfinally\u001b[0m\u001b[0;34m:\u001b[0m\u001b[0;34m\u001b[0m\u001b[0;34m\u001b[0m\u001b[0m\n\u001b[1;32m    155\u001b[0m       \u001b[0;32mdel\u001b[0m \u001b[0mfiltered_tb\u001b[0m\u001b[0;34m\u001b[0m\u001b[0;34m\u001b[0m\u001b[0m\n",
            "\u001b[0;32m/usr/local/lib/python3.10/dist-packages/tensorflow/python/framework/ops.py\u001b[0m in \u001b[0;36mraise_from_not_ok_status\u001b[0;34m(e, name)\u001b[0m\n\u001b[1;32m   5881\u001b[0m \u001b[0;32mdef\u001b[0m \u001b[0mraise_from_not_ok_status\u001b[0m\u001b[0;34m(\u001b[0m\u001b[0me\u001b[0m\u001b[0;34m,\u001b[0m \u001b[0mname\u001b[0m\u001b[0;34m)\u001b[0m \u001b[0;34m->\u001b[0m \u001b[0mNoReturn\u001b[0m\u001b[0;34m:\u001b[0m\u001b[0;34m\u001b[0m\u001b[0;34m\u001b[0m\u001b[0m\n\u001b[1;32m   5882\u001b[0m   \u001b[0me\u001b[0m\u001b[0;34m.\u001b[0m\u001b[0mmessage\u001b[0m \u001b[0;34m+=\u001b[0m \u001b[0;34m(\u001b[0m\u001b[0;34m\" name: \"\u001b[0m \u001b[0;34m+\u001b[0m \u001b[0mstr\u001b[0m\u001b[0;34m(\u001b[0m\u001b[0mname\u001b[0m \u001b[0;32mif\u001b[0m \u001b[0mname\u001b[0m \u001b[0;32mis\u001b[0m \u001b[0;32mnot\u001b[0m \u001b[0;32mNone\u001b[0m \u001b[0;32melse\u001b[0m \u001b[0;34m\"\"\u001b[0m\u001b[0;34m)\u001b[0m\u001b[0;34m)\u001b[0m\u001b[0;34m\u001b[0m\u001b[0;34m\u001b[0m\u001b[0m\n\u001b[0;32m-> 5883\u001b[0;31m   \u001b[0;32mraise\u001b[0m \u001b[0mcore\u001b[0m\u001b[0;34m.\u001b[0m\u001b[0m_status_to_exception\u001b[0m\u001b[0;34m(\u001b[0m\u001b[0me\u001b[0m\u001b[0;34m)\u001b[0m \u001b[0;32mfrom\u001b[0m \u001b[0;32mNone\u001b[0m  \u001b[0;31m# pylint: disable=protected-access\u001b[0m\u001b[0;34m\u001b[0m\u001b[0;34m\u001b[0m\u001b[0m\n\u001b[0m\u001b[1;32m   5884\u001b[0m \u001b[0;34m\u001b[0m\u001b[0m\n\u001b[1;32m   5885\u001b[0m \u001b[0;34m\u001b[0m\u001b[0m\n",
            "\u001b[0;31mInvalidArgumentError\u001b[0m: {{function_node __wrapped__MatMul_device_/job:localhost/replica:0/task:0/device:CPU:0}} Matrix size-incompatible: In[0]: [3,2], In[1]: [3,2] [Op:MatMul] name: "
          ]
        }
      ]
    },
    {
      "cell_type": "markdown",
      "source": [
        "Mencoba mengalikan dua tensor dengan bentuk `(3, 2)` menghasilkan error karena dimensi dalam tidak cocok.\n",
        "\n",
        "Kita perlu melakukan salah satu dari hal berikut:\n",
        "\n",
        "1. Mereshape X menjadi `(2, 3)` sehingga menjadi `(2, 3) @ (3, 2)`.\n",
        "2. Mereshape Y menjadi `(3, 2)` sehingga menjadi `(3, 2) @ (2, 3)`.\n",
        "\n",
        "Kita bisa melakukannya dengan menggunakan:\n",
        "\n",
        "1. `tf.reshape()` - memungkinkan kita untuk mereshape sebuah tensor menjadi bentuk yang ditentukan.\n",
        "2. `tf.transpose()` - mengubah dimensi dari sebuah tensor yang diberikan."
      ],
      "metadata": {
        "id": "_WpcDCxg7xaY"
      }
    },
    {
      "cell_type": "markdown",
      "source": [
        "![image.png](data:image/png;base64,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)"
      ],
      "metadata": {
        "id": "OIzXo75p7-fe"
      }
    },
    {
      "cell_type": "markdown",
      "source": [
        "Ayo coba `tf.reshape()` dulu."
      ],
      "metadata": {
        "id": "UKywhKAg7_7v"
      }
    },
    {
      "cell_type": "code",
      "source": [
        "# Reshape (3,2) -> (2,3)\n",
        "tf.reshape(Y, shape=(2,3))"
      ],
      "metadata": {
        "colab": {
          "base_uri": "https://localhost:8080/"
        },
        "id": "zY5OMWze7r4e",
        "outputId": "eaf50466-e95a-4f19-cc2f-14b466cf2747"
      },
      "execution_count": 103,
      "outputs": [
        {
          "output_type": "execute_result",
          "data": {
            "text/plain": [
              "<tf.Tensor: shape=(2, 3), dtype=int32, numpy=\n",
              "array([[ 7,  8,  9],\n",
              "       [10, 11, 12]], dtype=int32)>"
            ]
          },
          "metadata": {},
          "execution_count": 103
        }
      ]
    },
    {
      "cell_type": "code",
      "source": [
        "# Coba sekarang kalikan X & Y\n",
        "X @ tf.reshape(Y, shape=(2,3))"
      ],
      "metadata": {
        "colab": {
          "base_uri": "https://localhost:8080/"
        },
        "id": "wB5dkjph8IxC",
        "outputId": "15723fc9-64ba-402b-e1b2-d885e185641d"
      },
      "execution_count": 105,
      "outputs": [
        {
          "output_type": "execute_result",
          "data": {
            "text/plain": [
              "<tf.Tensor: shape=(3, 3), dtype=int32, numpy=\n",
              "array([[ 27,  30,  33],\n",
              "       [ 61,  68,  75],\n",
              "       [ 95, 106, 117]], dtype=int32)>"
            ]
          },
          "metadata": {},
          "execution_count": 105
        }
      ]
    },
    {
      "cell_type": "markdown",
      "source": [
        "Itu berhasil, mari kita coba yang sama dengan `X` yang sudah diubah bentuk, tetapi kali ini kita akan menggunakan `tf.transpose()` dan `tf.matmul()`."
      ],
      "metadata": {
        "id": "cZwyZXRu8T8q"
      }
    },
    {
      "cell_type": "code",
      "source": [
        "# Coba transpose (3, 2) -> (2, 3)\n",
        "tf.transpose(Y)"
      ],
      "metadata": {
        "colab": {
          "base_uri": "https://localhost:8080/"
        },
        "id": "37UsQwnc8Ppe",
        "outputId": "75f3fd8a-dd7b-4aac-ee94-95c46f5a8804"
      },
      "execution_count": 108,
      "outputs": [
        {
          "output_type": "execute_result",
          "data": {
            "text/plain": [
              "<tf.Tensor: shape=(2, 3), dtype=int32, numpy=\n",
              "array([[ 7,  9, 11],\n",
              "       [ 8, 10, 12]], dtype=int32)>"
            ]
          },
          "metadata": {},
          "execution_count": 108
        }
      ]
    },
    {
      "cell_type": "code",
      "source": [
        "tf.matmul(a=X, b=Y, transpose_a=True, transpose_b=False)"
      ],
      "metadata": {
        "colab": {
          "base_uri": "https://localhost:8080/"
        },
        "id": "yXjAYm9C8cCE",
        "outputId": "be19cc21-120e-4a11-e507-aa91cac002a2"
      },
      "execution_count": 109,
      "outputs": [
        {
          "output_type": "execute_result",
          "data": {
            "text/plain": [
              "<tf.Tensor: shape=(2, 2), dtype=int32, numpy=\n",
              "array([[ 89,  98],\n",
              "       [116, 128]], dtype=int32)>"
            ]
          },
          "metadata": {},
          "execution_count": 109
        }
      ]
    },
    {
      "cell_type": "markdown",
      "source": [
        "Perhatikan perbedaan dalam bentuk hasil saat mentransposisi `X` atau mereshape `Y`.\n",
        "\n",
        "Hal ini disebabkan oleh aturan kedua yang disebutkan di atas:\n",
        "\n",
        "* `(3, 2) @ (2, 3)` -> `(3, 3)` dilakukan dengan `X @ tf.reshape(Y, shape=(2, 3))`\n",
        "* `(2, 3) @ (3, 2)` -> `(2, 2)` dilakukan dengan `tf.matmul(tf.transpose(X), Y)`\n",
        "\n",
        "Manipulasi data semacam ini adalah pengingat: Anda akan menghabiskan banyak waktu dalam pembelajaran mesin dan bekerja dengan jaringan saraf untuk mereshape data (dalam bentuk tensors) untuk mempersiapkannya agar bisa digunakan dengan berbagai operasi (seperti memberikannya ke model)."
      ],
      "metadata": {
        "id": "i_c-v8rJ90gb"
      }
    },
    {
      "cell_type": "markdown",
      "source": [
        "### The dot product\n",
        "Mengalikan matriks satu dengan yang lain juga disebut sebagai dot product.\n",
        "\n",
        "Anda dapat melakukan operasi `tf.matmul()` menggunakan `tf.tensordot()`."
      ],
      "metadata": {
        "id": "-THO6ib2-At9"
      }
    },
    {
      "cell_type": "code",
      "source": [
        "# Lakukan dot product pada X dan Y (dengan X sudah tertranspose)\n",
        "tf.tensordot(tf.transpose(X), Y, axes=1)"
      ],
      "metadata": {
        "colab": {
          "base_uri": "https://localhost:8080/"
        },
        "id": "sfR2PX_t8mJ6",
        "outputId": "18b3c4c6-eab1-49be-f3b2-33d2bbf194ed"
      },
      "execution_count": 110,
      "outputs": [
        {
          "output_type": "execute_result",
          "data": {
            "text/plain": [
              "<tf.Tensor: shape=(2, 2), dtype=int32, numpy=\n",
              "array([[ 89,  98],\n",
              "       [116, 128]], dtype=int32)>"
            ]
          },
          "metadata": {},
          "execution_count": 110
        }
      ]
    },
    {
      "cell_type": "markdown",
      "source": [
        "Anda mungkin perhatikan bahwa meskipun menggunakan baik `reshape` maupun `transpose` berhasil, Anda mendapatkan hasil yang berbeda saat menggunakan masing-masing.\n",
        "\n",
        "Mari kita lihat contoh, pertama dengan `tf.transpose()` kemudian dengan `tf.reshape()`."
      ],
      "metadata": {
        "id": "FMTJG9xs-Ynd"
      }
    },
    {
      "cell_type": "code",
      "source": [
        "# Lakukan perkalian matrix X dan Y (Y tertranspose)\n",
        "tf.matmul(X, tf.transpose(Y))"
      ],
      "metadata": {
        "colab": {
          "base_uri": "https://localhost:8080/"
        },
        "id": "b6K748q5-RMv",
        "outputId": "aa1e44e7-ab67-4c4c-a32f-d6623cd5cf68"
      },
      "execution_count": 111,
      "outputs": [
        {
          "output_type": "execute_result",
          "data": {
            "text/plain": [
              "<tf.Tensor: shape=(3, 3), dtype=int32, numpy=\n",
              "array([[ 23,  29,  35],\n",
              "       [ 53,  67,  81],\n",
              "       [ 83, 105, 127]], dtype=int32)>"
            ]
          },
          "metadata": {},
          "execution_count": 111
        }
      ]
    },
    {
      "cell_type": "code",
      "source": [
        "tf.matmul(X, tf.reshape(Y, (2,3)))"
      ],
      "metadata": {
        "colab": {
          "base_uri": "https://localhost:8080/"
        },
        "id": "0nScGFA--mtJ",
        "outputId": "24c3737b-8bc8-4712-cfa6-f5c06f213f5d"
      },
      "execution_count": 112,
      "outputs": [
        {
          "output_type": "execute_result",
          "data": {
            "text/plain": [
              "<tf.Tensor: shape=(3, 3), dtype=int32, numpy=\n",
              "array([[ 27,  30,  33],\n",
              "       [ 61,  68,  75],\n",
              "       [ 95, 106, 117]], dtype=int32)>"
            ]
          },
          "metadata": {},
          "execution_count": 112
        }
      ]
    },
    {
      "cell_type": "markdown",
      "source": [
        "Hmm... mereka menghasilkan nilai yang berbeda.\n",
        "\n",
        "Hal ini aneh karena ketika berurusan dengan `Y` (matriks `(3x2)`), mereshape menjadi `(2, 3)` dan mentransposenya menghasilkan bentuk yang sama."
      ],
      "metadata": {
        "id": "_XYRefwt-vNT"
      }
    },
    {
      "cell_type": "code",
      "source": [
        "# Cek shape Y, reshape Y dan transposed Y\n",
        "Y.shape, tf.reshape(Y, (2,3)).shape, tf.transpose(Y).shape"
      ],
      "metadata": {
        "colab": {
          "base_uri": "https://localhost:8080/"
        },
        "id": "r3sIRmpr-qp6",
        "outputId": "8f97edca-2f41-43c5-8848-be2ef4cdab17"
      },
      "execution_count": 113,
      "outputs": [
        {
          "output_type": "execute_result",
          "data": {
            "text/plain": [
              "(TensorShape([3, 2]), TensorShape([2, 3]), TensorShape([2, 3]))"
            ]
          },
          "metadata": {},
          "execution_count": 113
        }
      ]
    },
    {
      "cell_type": "markdown",
      "source": [
        "Tapi memanggil tf.reshape() dan tf.transpose() pada Y tidak selalu menghasilkan nilai yang sama."
      ],
      "metadata": {
        "id": "p8KD3pLv--Qm"
      }
    },
    {
      "cell_type": "code",
      "source": [
        "# Cek value Y, reshape Y, dan transpose Y\n",
        "print(\"Normal Y:\")\n",
        "print(Y, \"\\n\")\n",
        "\n",
        "print(\"Y reshape to (2,3): \")\n",
        "print(tf.reshape(Y, (2,3)), \"\\n\")\n",
        "\n",
        "print(\"Y transpose to (2,3): \")\n",
        "print(tf.transpose(Y))"
      ],
      "metadata": {
        "colab": {
          "base_uri": "https://localhost:8080/"
        },
        "id": "mW9p1Hes-5rl",
        "outputId": "eb2382e3-5732-453d-ac11-aa8f017b7743"
      },
      "execution_count": 115,
      "outputs": [
        {
          "output_type": "stream",
          "name": "stdout",
          "text": [
            "Normal Y:\n",
            "tf.Tensor(\n",
            "[[ 7  8]\n",
            " [ 9 10]\n",
            " [11 12]], shape=(3, 2), dtype=int32) \n",
            "\n",
            "Y reshape to (2,3): \n",
            "tf.Tensor(\n",
            "[[ 7  8  9]\n",
            " [10 11 12]], shape=(2, 3), dtype=int32) \n",
            "\n",
            "Y transpose to (2,3): \n",
            "tf.Tensor(\n",
            "[[ 7  9 11]\n",
            " [ 8 10 12]], shape=(2, 3), dtype=int32)\n"
          ]
        }
      ]
    },
    {
      "cell_type": "markdown",
      "source": [
        "Seperti yang Anda lihat, output dari `tf.reshape()` dan `tf.transpose()` ketika dipanggil pada Y, meskipun memiliki bentuk yang sama, berbeda.\n",
        "\n",
        "Ini dapat dijelaskan oleh perilaku default dari setiap metode:\n",
        "\n",
        "* `tf.reshape()` - mengubah bentuk tensor yang diberikan (pertama) dan kemudian memasukkan nilai sesuai dengan urutan mereka muncul (dalam kasus kita, 7, 8, 9, 10, 11, 12).\n",
        "* `tf.transpose()` - menukar urutan sumbu, secara default sumbu terakhir menjadi yang pertama, namun urutan dapat diubah menggunakan parameter perm.\n",
        "\n",
        "Jadi yang mana yang sebaiknya Anda gunakan?\n",
        "\n",
        "Sekali lagi, sebagian besar waktu operasi-operasi ini (ketika mereka perlu dijalankan, seperti selama pelatihan jaringan saraf) akan diimplementasikan untuk Anda.\n",
        "\n",
        "Tetapi umumnya, ketika melakukan perkalian matriks dan bentuk dua matriks tidak sesuai, Anda akan mentranspos (bukan mereshape) salah satunya untuk menyelaraskan mereka."
      ],
      "metadata": {
        "id": "_agSxtJgBcq7"
      }
    },
    {
      "cell_type": "markdown",
      "source": [
        "### Matrix multiplication tidbits\n",
        "* Jika kita mentranspos `Y`, itu akan direpresentasikan sebagai `Y^T` (catatan huruf T kapital untuk tranpose).\n",
        "* Anda dapat melihat gambaran ilustratif tentang perkalian matriks oleh [Math is Fun](https://www.mathsisfun.com/algebra/matrix-multiplying.html).\n",
        "* Coba demo langsung perkalian matriks: [http://matrixmultiplication.xyz/](http://matrixmultiplication.xyz/)"
      ],
      "metadata": {
        "id": "6EoQEVxpBmKW"
      }
    },
    {
      "cell_type": "markdown",
      "source": [
        "### Changing the datatype of a tensor\n",
        "Terkadang Anda ingin mengubah tipe data default dari tensor Anda.\n",
        "\n",
        "Ini umum ketika Anda ingin melakukan komputasi dengan presisi yang lebih rendah (misalnya, menggunakan bilangan pecahan 16-bit daripada bilangan pecahan 32-bit).\n",
        "\n",
        "Menghitung dengan presisi yang lebih rendah berguna pada perangkat dengan kapasitas komputasi yang lebih sedikit seperti perangkat mobile (karena semakin sedikit bit, semakin sedikit ruang yang dibutuhkan untuk komputasi).\n",
        "\n",
        "Anda dapat mengubah tipe data dari sebuah tensor menggunakan `tf.cast()`."
      ],
      "metadata": {
        "id": "Ps8Ipg9lB64a"
      }
    },
    {
      "cell_type": "code",
      "source": [
        "# Buat tensor baru dengan default datatype (float32)\n",
        "B = tf.constant([1.7, 7.4])\n",
        "\n",
        "# Buat tensor baru dengan default datatype (int32)\n",
        "C = tf.constant([1, 7])\n",
        "B, C"
      ],
      "metadata": {
        "colab": {
          "base_uri": "https://localhost:8080/"
        },
        "id": "xEJGXLzv_OqJ",
        "outputId": "c6c8b055-9555-4160-a904-640442a2079b"
      },
      "execution_count": 116,
      "outputs": [
        {
          "output_type": "execute_result",
          "data": {
            "text/plain": [
              "(<tf.Tensor: shape=(2,), dtype=float32, numpy=array([1.7, 7.4], dtype=float32)>,\n",
              " <tf.Tensor: shape=(2,), dtype=int32, numpy=array([1, 7], dtype=int32)>)"
            ]
          },
          "metadata": {},
          "execution_count": 116
        }
      ]
    },
    {
      "cell_type": "code",
      "source": [
        "# Ubah dari float32 ke float 16 (menurunkan presisi)\n",
        "B = tf.cast(B, dtype=tf.float16)\n",
        "B"
      ],
      "metadata": {
        "colab": {
          "base_uri": "https://localhost:8080/"
        },
        "id": "M5YdwxkNCSCN",
        "outputId": "d25efdbb-27e1-4af1-8116-64a10b72612b"
      },
      "execution_count": 117,
      "outputs": [
        {
          "output_type": "execute_result",
          "data": {
            "text/plain": [
              "<tf.Tensor: shape=(2,), dtype=float16, numpy=array([1.7, 7.4], dtype=float16)>"
            ]
          },
          "metadata": {},
          "execution_count": 117
        }
      ]
    },
    {
      "cell_type": "code",
      "source": [
        "# Ubah dari int32 ke float32\n",
        "C = tf.cast(C, dtype=tf.float32)\n",
        "C"
      ],
      "metadata": {
        "colab": {
          "base_uri": "https://localhost:8080/"
        },
        "id": "JO5wFGHJCXyf",
        "outputId": "65266619-7840-40cc-a9e9-fc62488e2264"
      },
      "execution_count": 118,
      "outputs": [
        {
          "output_type": "execute_result",
          "data": {
            "text/plain": [
              "<tf.Tensor: shape=(2,), dtype=float32, numpy=array([1., 7.], dtype=float32)>"
            ]
          },
          "metadata": {},
          "execution_count": 118
        }
      ]
    },
    {
      "cell_type": "markdown",
      "source": [
        "### Getting the absolute value\n",
        "Terkadang Anda ingin mendapatkan nilai absolut (semua nilai positif) dari elemen-elemen dalam tensor Anda.\n",
        "\n",
        "Untuk melakukannya, Anda dapat menggunakan `tf.abs()`."
      ],
      "metadata": {
        "id": "fhwUGjYBCfZR"
      }
    },
    {
      "cell_type": "code",
      "source": [
        "# Buat tensor dengan nilai negatif\n",
        "D = tf.constant([-7, -10])\n",
        "D"
      ],
      "metadata": {
        "colab": {
          "base_uri": "https://localhost:8080/"
        },
        "id": "3474ILE9CcmP",
        "outputId": "a1981227-7d92-4bb5-e03a-01520a131e95"
      },
      "execution_count": 120,
      "outputs": [
        {
          "output_type": "execute_result",
          "data": {
            "text/plain": [
              "<tf.Tensor: shape=(2,), dtype=int32, numpy=array([ -7, -10], dtype=int32)>"
            ]
          },
          "metadata": {},
          "execution_count": 120
        }
      ]
    },
    {
      "cell_type": "code",
      "source": [
        "# Cari absolut valuenya\n",
        "tf.abs(D)"
      ],
      "metadata": {
        "colab": {
          "base_uri": "https://localhost:8080/"
        },
        "id": "vm4P26ZECot4",
        "outputId": "2f5c82b1-cf60-4a43-f57d-f11f5a444021"
      },
      "execution_count": 121,
      "outputs": [
        {
          "output_type": "execute_result",
          "data": {
            "text/plain": [
              "<tf.Tensor: shape=(2,), dtype=int32, numpy=array([ 7, 10], dtype=int32)>"
            ]
          },
          "metadata": {},
          "execution_count": 121
        }
      ]
    },
    {
      "cell_type": "markdown",
      "source": [
        "### Finding the min, max, mean, sum (aggregation)\n",
        "Anda dapat dengan cepat mengagregasi (melakukan perhitungan pada seluruh tensor) tensor untuk menemukan hal-hal seperti nilai minimum, nilai maksimum, rata-rata, dan jumlah dari semua elemen.\n",
        "\n",
        "Untuk melakukannya, metode agregasi biasanya memiliki sintaks `reduce()_[aksi]`, seperti:\n",
        "\n",
        "* `tf.reduce_min()` - mencari nilai minimum dalam sebuah tensor.\n",
        "* `tf.reduce_max()` - mencari nilai maksimum dalam sebuah tensor (berguna ketika Anda ingin menemukan probabilitas prediksi tertinggi).\n",
        "* `tf.reduce_mean()` - mencari rata-rata dari semua elemen dalam sebuah tensor.\n",
        "* `tf.reduce_sum()` - mencari jumlah dari semua elemen dalam sebuah tensor.\n",
        "\n",
        "**Catatan:** biasanya, setiap metode ini berada di bawah modul `math`, misalnya `tf.math.reduce_min()`, tetapi Anda bisa menggunakan alias `tf.reduce_min()`.\n",
        "\n",
        "Mari kita lihat mereka dalam tindakan."
      ],
      "metadata": {
        "id": "47b-uidBCvCI"
      }
    },
    {
      "cell_type": "code",
      "source": [
        "# Buat tensor berisi 50 value dan random 0 ke 100\n",
        "E = tf.constant(np.random.randint(low=0, high=100, size=50))\n",
        "E"
      ],
      "metadata": {
        "colab": {
          "base_uri": "https://localhost:8080/"
        },
        "id": "D6DuLrQ7CtEw",
        "outputId": "66c32181-d843-485b-d534-903c2ad06520"
      },
      "execution_count": 122,
      "outputs": [
        {
          "output_type": "execute_result",
          "data": {
            "text/plain": [
              "<tf.Tensor: shape=(50,), dtype=int64, numpy=\n",
              "array([89,  7, 93, 32, 50, 64, 13, 70, 29, 66, 96, 81, 98, 95, 32, 52,  6,\n",
              "       67, 10,  2, 60, 66, 78, 59, 22, 49, 65, 42,  7, 46, 12, 32, 42, 65,\n",
              "       91, 81,  1, 19,  3,  0, 45, 91, 63,  4, 32, 41,  9, 53, 40, 44])>"
            ]
          },
          "metadata": {},
          "execution_count": 122
        }
      ]
    },
    {
      "cell_type": "code",
      "source": [
        "# Cari minimumnya\n",
        "tf.reduce_min(E)"
      ],
      "metadata": {
        "colab": {
          "base_uri": "https://localhost:8080/"
        },
        "id": "ZjqfRQJDDM22",
        "outputId": "407c52e6-7b12-455a-8bb4-7a7f60ef0e0b"
      },
      "execution_count": 123,
      "outputs": [
        {
          "output_type": "execute_result",
          "data": {
            "text/plain": [
              "<tf.Tensor: shape=(), dtype=int64, numpy=0>"
            ]
          },
          "metadata": {},
          "execution_count": 123
        }
      ]
    },
    {
      "cell_type": "code",
      "source": [
        "# Cari maksimumnya\n",
        "tf.reduce_max(E)"
      ],
      "metadata": {
        "colab": {
          "base_uri": "https://localhost:8080/"
        },
        "id": "b1--mFNUDTGp",
        "outputId": "59d92c80-740d-43bf-bad6-31832ca263e8"
      },
      "execution_count": 125,
      "outputs": [
        {
          "output_type": "execute_result",
          "data": {
            "text/plain": [
              "<tf.Tensor: shape=(), dtype=int64, numpy=98>"
            ]
          },
          "metadata": {},
          "execution_count": 125
        }
      ]
    },
    {
      "cell_type": "code",
      "source": [
        "# Cari mean\n",
        "tf.reduce_mean(E)"
      ],
      "metadata": {
        "colab": {
          "base_uri": "https://localhost:8080/"
        },
        "id": "Crhcf6vxDXuT",
        "outputId": "18102023-b85e-4c6c-fb20-f26d80a74f9a"
      },
      "execution_count": 126,
      "outputs": [
        {
          "output_type": "execute_result",
          "data": {
            "text/plain": [
              "<tf.Tensor: shape=(), dtype=int64, numpy=46>"
            ]
          },
          "metadata": {},
          "execution_count": 126
        }
      ]
    },
    {
      "cell_type": "code",
      "source": [
        "# Cari totalnya\n",
        "tf.reduce_sum(E)"
      ],
      "metadata": {
        "colab": {
          "base_uri": "https://localhost:8080/"
        },
        "id": "CHs3lfJODanR",
        "outputId": "a01261cc-6d7b-411d-bfee-2e97ab7b7eb6"
      },
      "execution_count": 128,
      "outputs": [
        {
          "output_type": "execute_result",
          "data": {
            "text/plain": [
              "<tf.Tensor: shape=(), dtype=int64, numpy=2314>"
            ]
          },
          "metadata": {},
          "execution_count": 128
        }
      ]
    },
    {
      "cell_type": "markdown",
      "source": [
        "Anda juga dapat menemukan standar deviasi (`tf.reduce_std()`) dan varians (`tf.reduce_variance()`) dari elemen-elemen dalam sebuah tensor menggunakan metode serupa."
      ],
      "metadata": {
        "id": "1dUwvDjvDh7j"
      }
    },
    {
      "cell_type": "markdown",
      "source": [
        "### Finding the positional maximum and minimum\n",
        "Bagaimana cara menemukan posisi sebuah tensor di mana nilai maksimum terjadi?\n",
        "\n",
        "Hal ini berguna ketika Anda ingin menyusun label-label Anda (misalnya `['Hijau', 'Biru', 'Merah']`) dengan tensor probabilitas prediksi Anda (misalnya `[0.98, 0.01, 0.01]`).\n",
        "\n",
        "Dalam kasus ini, label yang diprediksi (yang memiliki probabilitas prediksi tertinggi) akan menjadi `'Hijau'`.\n",
        "\n",
        "Anda dapat melakukan hal yang sama untuk nilai minimum (jika diperlukan) dengan menggunakan:\n",
        "\n",
        "* `tf.argmax()` - mencari posisi elemen maksimum dalam sebuah tensor yang diberikan.\n",
        "* `tf.argmin()` - mencari posisi elemen minimum dalam sebuah tensor yang diberikan."
      ],
      "metadata": {
        "id": "WAvzZTRbEW_j"
      }
    },
    {
      "cell_type": "code",
      "source": [
        "F = tf.constant(np.random.random(50))\n",
        "F"
      ],
      "metadata": {
        "colab": {
          "base_uri": "https://localhost:8080/"
        },
        "id": "wWGEnr7TDcMq",
        "outputId": "cb529d90-3b6f-4dc9-ffd3-623eb28ce66f"
      },
      "execution_count": 146,
      "outputs": [
        {
          "output_type": "execute_result",
          "data": {
            "text/plain": [
              "<tf.Tensor: shape=(50,), dtype=float64, numpy=\n",
              "array([0.0936658 , 0.23669845, 0.92395537, 0.99777554, 0.29961871,\n",
              "       0.23531581, 0.52990699, 0.82141136, 0.13360557, 0.95634717,\n",
              "       0.2346281 , 0.82992844, 0.58441704, 0.30252253, 0.51352986,\n",
              "       0.49974932, 0.93835687, 0.63091625, 0.52162541, 0.13641015,\n",
              "       0.44656873, 0.08992451, 0.34008513, 0.50310725, 0.8978559 ,\n",
              "       0.60449572, 0.32397368, 0.98376508, 0.75275638, 0.16321089,\n",
              "       0.39169074, 0.93424222, 0.1572353 , 0.59502076, 0.40367896,\n",
              "       0.05780789, 0.85500999, 0.3844753 , 0.53519565, 0.7570162 ,\n",
              "       0.95227108, 0.8511564 , 0.17837123, 0.85214364, 0.20234817,\n",
              "       0.73858907, 0.78625615, 0.85275397, 0.00538648, 0.83142761])>"
            ]
          },
          "metadata": {},
          "execution_count": 146
        }
      ]
    },
    {
      "cell_type": "code",
      "source": [
        "# Cari posisi elemen maximum F\n",
        "print(f\"Nilai minimum ada di [{tf.argmax(F)}]: {F[tf.argmax(F)]}\")"
      ],
      "metadata": {
        "colab": {
          "base_uri": "https://localhost:8080/"
        },
        "id": "ZJBax3u5FKO8",
        "outputId": "1ed3afc4-5569-4c10-8d83-bd583e3dc184"
      },
      "execution_count": 147,
      "outputs": [
        {
          "output_type": "stream",
          "name": "stdout",
          "text": [
            "Nilai minimum ada di [3]: 0.9977755420161113\n"
          ]
        }
      ]
    },
    {
      "cell_type": "code",
      "source": [
        "# Cari posisi elemen minimum F\n",
        "print(f\"Nilai minimum ada di [{tf.argmin(F)}]: {F[tf.argmin(F)]}\")"
      ],
      "metadata": {
        "colab": {
          "base_uri": "https://localhost:8080/"
        },
        "id": "ezz6t9Q0FUvd",
        "outputId": "59cae3dd-e58c-4b32-a710-6238675fca82"
      },
      "execution_count": 148,
      "outputs": [
        {
          "output_type": "stream",
          "name": "stdout",
          "text": [
            "Nilai minimum ada di [48]: 0.005386478924951477\n"
          ]
        }
      ]
    },
    {
      "cell_type": "markdown",
      "source": [
        "### Squeezing a tensor (removing all single dimensions)\n",
        "Jika Anda perlu menghapus dimensi tunggal dari sebuah tensor (dimensi dengan ukuran 1), Anda dapat menggunakan `tf.squeeze()`.\n",
        "\n",
        "* `tf.squeeze()` - menghapus semua dimensi dengan ukuran 1 dari sebuah tensor."
      ],
      "metadata": {
        "id": "V-vjlWcKGeAm"
      }
    },
    {
      "cell_type": "code",
      "source": [
        "# Buat tensor 5D dengan 50 number antara 0 dan 100\n",
        "G = tf.constant(np.random.randint(0, 100, 50), shape=(1,1,1,1, 50))\n",
        "G.shape, G.ndim"
      ],
      "metadata": {
        "colab": {
          "base_uri": "https://localhost:8080/"
        },
        "id": "vSW7uADnFaeD",
        "outputId": "1eec3bff-0d7b-4818-b2db-91c681737f55"
      },
      "execution_count": 149,
      "outputs": [
        {
          "output_type": "execute_result",
          "data": {
            "text/plain": [
              "(TensorShape([1, 1, 1, 1, 50]), 5)"
            ]
          },
          "metadata": {},
          "execution_count": 149
        }
      ]
    },
    {
      "cell_type": "code",
      "source": [
        "G_squeezed = tf.squeeze(G)\n",
        "G_squeezed.shape, G_squeezed.ndim"
      ],
      "metadata": {
        "colab": {
          "base_uri": "https://localhost:8080/"
        },
        "id": "B10vwsOyGyNY",
        "outputId": "5daff966-532d-467d-b3ad-1663449bf834"
      },
      "execution_count": 150,
      "outputs": [
        {
          "output_type": "execute_result",
          "data": {
            "text/plain": [
              "(TensorShape([50]), 1)"
            ]
          },
          "metadata": {},
          "execution_count": 150
        }
      ]
    },
    {
      "cell_type": "markdown",
      "source": [
        "### One-hot encoding\n",
        "Jika Anda memiliki sebuah tensor indeks dan ingin mengonversinya menjadi one-hot encoding, Anda dapat menggunakan `tf.one_hot()`.\n",
        "\n",
        "Anda juga harus menentukan parameter depth (tingkat di mana Anda ingin melakukan one-hot encoding).\n",
        "\n",
        "`One-hot encoding` adalah teknik yang umum digunakan dalam pemrosesan data kategorikal, di mana setiap kategori direpresentasikan sebagai vektor biner di mana satu elemen berada di posisi yang sesuai dengan indeks kategori, dan nilai lainnya adalah nol."
      ],
      "metadata": {
        "id": "HOi6CetUG6P6"
      }
    },
    {
      "cell_type": "code",
      "source": [
        "# Buat list\n",
        "list = [0, 1, 2, 3]\n",
        "print(list)\n",
        "\n",
        "# one hot encode\n",
        "tf.one_hot(list, depth=4) #depth=4 karena value list ada 4"
      ],
      "metadata": {
        "colab": {
          "base_uri": "https://localhost:8080/"
        },
        "id": "M3aI_A0CG4Ns",
        "outputId": "2b832d02-aeb2-4ba1-cae3-7239e4ecbbc2"
      },
      "execution_count": 157,
      "outputs": [
        {
          "output_type": "stream",
          "name": "stdout",
          "text": [
            "[0, 1, 2, 3]\n"
          ]
        },
        {
          "output_type": "execute_result",
          "data": {
            "text/plain": [
              "<tf.Tensor: shape=(4, 4), dtype=float32, numpy=\n",
              "array([[1., 0., 0., 0.],\n",
              "       [0., 1., 0., 0.],\n",
              "       [0., 0., 1., 0.],\n",
              "       [0., 0., 0., 1.]], dtype=float32)>"
            ]
          },
          "metadata": {},
          "execution_count": 157
        }
      ]
    },
    {
      "cell_type": "markdown",
      "source": [
        "Anda juga dapat menentukan nilai untuk `on_value` dan `off_value` daripada menggunakan nilai default `0` dan `1`."
      ],
      "metadata": {
        "id": "Bb9u_KjTJHvN"
      }
    },
    {
      "cell_type": "code",
      "source": [
        "# Menggunakan custom value yang bukan 0 dan 1\n",
        "tf.one_hot(list, depth=4, on_value=\"Jagoan\", off_value=\"Pengecut\")"
      ],
      "metadata": {
        "colab": {
          "base_uri": "https://localhost:8080/"
        },
        "id": "d8A26gFXJHdG",
        "outputId": "2124640c-2163-4173-de6c-dce9a4591efe"
      },
      "execution_count": 158,
      "outputs": [
        {
          "output_type": "execute_result",
          "data": {
            "text/plain": [
              "<tf.Tensor: shape=(4, 4), dtype=string, numpy=\n",
              "array([[b'Jagoan', b'Pengecut', b'Pengecut', b'Pengecut'],\n",
              "       [b'Pengecut', b'Jagoan', b'Pengecut', b'Pengecut'],\n",
              "       [b'Pengecut', b'Pengecut', b'Jagoan', b'Pengecut'],\n",
              "       [b'Pengecut', b'Pengecut', b'Pengecut', b'Jagoan']], dtype=object)>"
            ]
          },
          "metadata": {},
          "execution_count": 158
        }
      ]
    },
    {
      "cell_type": "markdown",
      "source": [
        "### Squaring, log, square root\n",
        "Banyak operasi matematika umum lainnya yang mungkin ingin Anda lakukan pada suatu saat, mungkin ada.\n",
        "\n",
        "Mari kita lihat:\n",
        "\n",
        "* `tf.square()` - mendapatkan kuadrat dari setiap nilai dalam sebuah tensor.\n",
        "* `tf.sqrt()` - mendapatkan akar kuadrat dari setiap nilai dalam sebuah tensor (catatan: elemennya perlu berupa float atau akan menghasilkan error).\n",
        "* `tf.math.log()` - mendapatkan logaritma alami dari setiap nilai dalam sebuah tensor (elemen perlu berupa float)."
      ],
      "metadata": {
        "id": "StNSDSILJVd2"
      }
    },
    {
      "cell_type": "code",
      "source": [
        "# Buat tensor baru\n",
        "H = tf.constant(np.arange(1, 10))\n",
        "H"
      ],
      "metadata": {
        "colab": {
          "base_uri": "https://localhost:8080/"
        },
        "id": "uUErQU8LHIS4",
        "outputId": "42896fc4-08ce-4e84-a994-08db78efe075"
      },
      "execution_count": 159,
      "outputs": [
        {
          "output_type": "execute_result",
          "data": {
            "text/plain": [
              "<tf.Tensor: shape=(9,), dtype=int64, numpy=array([1, 2, 3, 4, 5, 6, 7, 8, 9])>"
            ]
          },
          "metadata": {},
          "execution_count": 159
        }
      ]
    },
    {
      "cell_type": "code",
      "source": [
        "# kuadratkan\n",
        "tf.square(H)"
      ],
      "metadata": {
        "colab": {
          "base_uri": "https://localhost:8080/"
        },
        "id": "Mt942v5MJnl7",
        "outputId": "483240a5-54e8-418d-a3b5-b25adbe2d5d0"
      },
      "execution_count": 160,
      "outputs": [
        {
          "output_type": "execute_result",
          "data": {
            "text/plain": [
              "<tf.Tensor: shape=(9,), dtype=int64, numpy=array([ 1,  4,  9, 16, 25, 36, 49, 64, 81])>"
            ]
          },
          "metadata": {},
          "execution_count": 160
        }
      ]
    },
    {
      "cell_type": "code",
      "source": [
        "# Ubah H ke float32\n",
        "H = tf.cast(H, dtype=tf.float32)\n",
        "\n",
        "# cari akar kuadratnya\n",
        "tf.sqrt(H)"
      ],
      "metadata": {
        "colab": {
          "base_uri": "https://localhost:8080/"
        },
        "id": "QV7rFmGFJsW6",
        "outputId": "7acbe15c-f7dd-4e02-b756-6ff3340c77a5"
      },
      "execution_count": 162,
      "outputs": [
        {
          "output_type": "execute_result",
          "data": {
            "text/plain": [
              "<tf.Tensor: shape=(9,), dtype=float32, numpy=\n",
              "array([1.       , 1.4142135, 1.7320508, 2.       , 2.236068 , 2.4494898,\n",
              "       2.6457512, 2.828427 , 3.       ], dtype=float32)>"
            ]
          },
          "metadata": {},
          "execution_count": 162
        }
      ]
    },
    {
      "cell_type": "code",
      "source": [
        "# Cari log (inputannya juga harus float)\n",
        "tf.math.log(H)"
      ],
      "metadata": {
        "colab": {
          "base_uri": "https://localhost:8080/"
        },
        "id": "IGHMlNS6J3Mb",
        "outputId": "74f3ce3b-17a7-4a8c-de26-b9d5b2864ec4"
      },
      "execution_count": 163,
      "outputs": [
        {
          "output_type": "execute_result",
          "data": {
            "text/plain": [
              "<tf.Tensor: shape=(9,), dtype=float32, numpy=\n",
              "array([0.       , 0.6931472, 1.0986123, 1.3862944, 1.609438 , 1.7917595,\n",
              "       1.9459102, 2.0794415, 2.1972246], dtype=float32)>"
            ]
          },
          "metadata": {},
          "execution_count": 163
        }
      ]
    },
    {
      "cell_type": "markdown",
      "source": [
        "### Manipulating tf.Variable tensor\n",
        "Tensor yang dibuat dengan `tf.Variable()` dapat diubah langsung menggunakan metode seperti:\n",
        "\n",
        "* `.assign()` - mengubah nilai yang berbeda ke indeks tertentu dari sebuah tensor variabel.\n",
        "* `.add_assign()` - menambahkan nilai ke nilai yang ada dan mengubahnya kembali ke indeks tertentu dari sebuah tensor variabel."
      ],
      "metadata": {
        "id": "U72xTP1LKn04"
      }
    },
    {
      "cell_type": "code",
      "source": [
        "# Buat tensor variable\n",
        "I = tf.Variable(np.arange(0,5))\n",
        "I"
      ],
      "metadata": {
        "colab": {
          "base_uri": "https://localhost:8080/"
        },
        "id": "rjA5sVYWKg02",
        "outputId": "95d7e180-9dcf-40cb-dc85-ee903fa743fa"
      },
      "execution_count": 164,
      "outputs": [
        {
          "output_type": "execute_result",
          "data": {
            "text/plain": [
              "<tf.Variable 'Variable:0' shape=(5,) dtype=int64, numpy=array([0, 1, 2, 3, 4])>"
            ]
          },
          "metadata": {},
          "execution_count": 164
        }
      ]
    },
    {
      "cell_type": "code",
      "source": [
        "I.assign([0,1,2,3,50])\n",
        "\n",
        "# The change happens in place (the last value is now 50, not 4)\n",
        "I"
      ],
      "metadata": {
        "colab": {
          "base_uri": "https://localhost:8080/"
        },
        "id": "Bph3zi1eK3kn",
        "outputId": "7c381e2b-d573-44b5-8d8b-34ace861de86"
      },
      "execution_count": 167,
      "outputs": [
        {
          "output_type": "execute_result",
          "data": {
            "text/plain": [
              "<tf.Variable 'Variable:0' shape=(5,) dtype=int64, numpy=array([ 0,  1,  2,  3, 50])>"
            ]
          },
          "metadata": {},
          "execution_count": 167
        }
      ]
    },
    {
      "cell_type": "code",
      "source": [
        "#Tambah 10 ke semua elemen\n",
        "I.assign_add([10, 10, 10, 10, 10])"
      ],
      "metadata": {
        "colab": {
          "base_uri": "https://localhost:8080/"
        },
        "id": "l9e2arrCK5QE",
        "outputId": "33987458-7be8-44b0-d718-8ebd38306c9c"
      },
      "execution_count": 168,
      "outputs": [
        {
          "output_type": "execute_result",
          "data": {
            "text/plain": [
              "<tf.Variable 'UnreadVariable' shape=(5,) dtype=int64, numpy=array([10, 11, 12, 13, 60])>"
            ]
          },
          "metadata": {},
          "execution_count": 168
        }
      ]
    },
    {
      "cell_type": "code",
      "source": [
        "I"
      ],
      "metadata": {
        "colab": {
          "base_uri": "https://localhost:8080/"
        },
        "id": "qqTCtMGxLHB-",
        "outputId": "3f43f06e-0356-4fed-e80a-18e651ba9f52"
      },
      "execution_count": 169,
      "outputs": [
        {
          "output_type": "execute_result",
          "data": {
            "text/plain": [
              "<tf.Variable 'Variable:0' shape=(5,) dtype=int64, numpy=array([10, 11, 12, 13, 60])>"
            ]
          },
          "metadata": {},
          "execution_count": 169
        }
      ]
    },
    {
      "cell_type": "markdown",
      "source": [
        "## Tensors and NumPy\n",
        "Kita telah melihat beberapa contoh tensor berinteraksi dengan array NumPy, seperti menggunakan array NumPy untuk membuat tensor.\n",
        "\n",
        "Tensor juga dapat dikonversi menjadi array NumPy menggunakan:\n",
        "\n",
        "* `np.array()` - lewatkan sebuah tensor untuk mengonversinya menjadi ndarray (tipe data utama NumPy).\n",
        "* `tensor.numpy()` - panggil pada sebuah tensor untuk mengonversinya menjadi ndarray.\n",
        "\n",
        "Melakukan ini membantu karena membuat tensor dapat diiterasi serta memungkinkan kita menggunakan salah satu metode NumPy pada mereka."
      ],
      "metadata": {
        "id": "3QCJ12zXLLOt"
      }
    },
    {
      "cell_type": "code",
      "source": [
        "# Buat tensor dari NumPy array\n",
        "J = tf.constant(np.array([3., 7., 10.]))\n",
        "J"
      ],
      "metadata": {
        "colab": {
          "base_uri": "https://localhost:8080/"
        },
        "id": "00hrvcMoLIb1",
        "outputId": "8a62a648-d212-4ffb-f662-fc86fe5517b3"
      },
      "execution_count": 170,
      "outputs": [
        {
          "output_type": "execute_result",
          "data": {
            "text/plain": [
              "<tf.Tensor: shape=(3,), dtype=float64, numpy=array([ 3.,  7., 10.])>"
            ]
          },
          "metadata": {},
          "execution_count": 170
        }
      ]
    },
    {
      "cell_type": "code",
      "source": [
        "np.array(J), type(np.array(J))"
      ],
      "metadata": {
        "colab": {
          "base_uri": "https://localhost:8080/"
        },
        "id": "iB7zji-hLcWw",
        "outputId": "239235b0-9734-4dc7-812d-78e456f55b17"
      },
      "execution_count": 171,
      "outputs": [
        {
          "output_type": "execute_result",
          "data": {
            "text/plain": [
              "(array([ 3.,  7., 10.]), numpy.ndarray)"
            ]
          },
          "metadata": {},
          "execution_count": 171
        }
      ]
    },
    {
      "cell_type": "code",
      "source": [
        "J.numpy(), type(J.numpy())"
      ],
      "metadata": {
        "colab": {
          "base_uri": "https://localhost:8080/"
        },
        "id": "n_gcYgOwLe3W",
        "outputId": "9165a137-c3ba-45fd-eeb2-133a38677253"
      },
      "execution_count": 172,
      "outputs": [
        {
          "output_type": "execute_result",
          "data": {
            "text/plain": [
              "(array([ 3.,  7., 10.]), numpy.ndarray)"
            ]
          },
          "metadata": {},
          "execution_count": 172
        }
      ]
    },
    {
      "cell_type": "markdown",
      "source": [
        "Secara default, tensors memiliki `dtype=float32`, sedangkan array NumPy memiliki `dtype=float64`.\n",
        "\n",
        "Hal ini karena jaringan saraf (yang biasanya dibangun dengan TensorFlow) umumnya dapat bekerja dengan sangat baik dengan presisi yang lebih rendah (32-bit daripada 64-bit)."
      ],
      "metadata": {
        "id": "lAkozQTQLnbu"
      }
    },
    {
      "cell_type": "code",
      "source": [
        "# Buat tensor dari NumPy dan dari array\n",
        "numpy_J = tf.constant(np.array([3., 7., 10.])) #bakalan jadi float64 (karena numpy)\n",
        "tensor_J = tf.constant([3., 7., 10.]) #bakalan float32 (karena default TensorFlow)\n",
        "numpy_J.dtype, tensor_J.dtype"
      ],
      "metadata": {
        "colab": {
          "base_uri": "https://localhost:8080/"
        },
        "id": "NX0Qhkh6Lhz3",
        "outputId": "cd1c875c-49be-49d9-c212-981eb4c46f35"
      },
      "execution_count": 176,
      "outputs": [
        {
          "output_type": "execute_result",
          "data": {
            "text/plain": [
              "(tf.float64, tf.float32)"
            ]
          },
          "metadata": {},
          "execution_count": 176
        }
      ]
    },
    {
      "cell_type": "markdown",
      "source": [
        "##Using @tf.function\n",
        "Dalam petualangan TensorFlow Anda, Anda mungkin akan menemui fungsi Python yang memiliki dekorator `@tf.function`.\n",
        "\n",
        "Jika Anda tidak yakin apa yang dilakukan dekorator Python, baca panduan [RealPython](https://realpython.com/primer-on-python-decorators/) tentang mereka.\n",
        "\n",
        "Tapi singkatnya, dekorator mengubah fungsi dengan cara tertentu.\n",
        "\n",
        "Dalam kasus dekorator `@tf.function`, itu mengubah fungsi Python menjadi graf TensorFlow yang dapat dipanggil. Ini adalah cara elegan untuk mengatakan, jika Anda telah menulis fungsi Python Anda sendiri, dan Anda mendekorasinya dengan `@tf.function`, ketika Anda mengekspor kode Anda (untuk mungkin dijalankan pada perangkat lain), TensorFlow akan mencoba mengonversinya menjadi versi yang lebih cepat (dengan membuatnya bagian dari graf komputasi).\n",
        "\n",
        "Untuk informasi lebih lanjut, baca panduan [Better performnace with tf.function](https://www.tensorflow.org/guide/function)."
      ],
      "metadata": {
        "id": "zZjFCudGMQck"
      }
    },
    {
      "cell_type": "code",
      "source": [
        "# Buat function sederhana\n",
        "def function(x, y):\n",
        "    return x ** 2 + y\n",
        "\n",
        "x = tf.constant(np.arange(0, 10))\n",
        "y = tf.constant(np.arange(10, 20))\n",
        "function(x,y)"
      ],
      "metadata": {
        "colab": {
          "base_uri": "https://localhost:8080/"
        },
        "id": "foBRsFeAMOwM",
        "outputId": "5ebaa30f-4ca0-4e93-90a3-fe07391d0416"
      },
      "execution_count": 179,
      "outputs": [
        {
          "output_type": "execute_result",
          "data": {
            "text/plain": [
              "<tf.Tensor: shape=(10,), dtype=int64, numpy=array([ 10,  12,  16,  22,  30,  40,  52,  66,  82, 100])>"
            ]
          },
          "metadata": {},
          "execution_count": 179
        }
      ]
    },
    {
      "cell_type": "code",
      "source": [
        "# Buat function yang sama dan decorate dengan tf.function\n",
        "@tf.function\n",
        "def tf_function(x, y):\n",
        "    return x ** 2 + y\n",
        "\n",
        "tf_function(x, y)"
      ],
      "metadata": {
        "colab": {
          "base_uri": "https://localhost:8080/"
        },
        "id": "2U0yvq7pNPRJ",
        "outputId": "1ca3b9f7-4894-45d6-9171-800b9c357b45"
      },
      "execution_count": 180,
      "outputs": [
        {
          "output_type": "execute_result",
          "data": {
            "text/plain": [
              "<tf.Tensor: shape=(10,), dtype=int64, numpy=array([ 10,  12,  16,  22,  30,  40,  52,  66,  82, 100])>"
            ]
          },
          "metadata": {},
          "execution_count": 180
        }
      ]
    },
    {
      "cell_type": "markdown",
      "source": [
        "Jika Anda tidak melihat perbedaan antara kedua fungsi di atas (yang ada `@` dan yang tidak), Anda benar.\n",
        "\n",
        "Sebagian besar perbedaan terjadi di balik layar. Salah satu yang utama adalah potensi percepatan kode jika memungkinkan."
      ],
      "metadata": {
        "id": "9bIGRz0DNtB8"
      }
    },
    {
      "cell_type": "markdown",
      "source": [
        "## Finding access to GPUs\n",
        "Kita telah menyebutkan GPU berkali-kali dalam notebook ini.\n",
        "\n",
        "Jadi bagaimana cara memeriksa apakah Anda memiliki satu yang tersedia?\n",
        "\n",
        "Anda dapat memeriksa apakah Anda memiliki akses ke GPU menggunakan `tf.config.list_physical_devices()`."
      ],
      "metadata": {
        "id": "Cw5uPI9uNyLf"
      }
    },
    {
      "cell_type": "code",
      "source": [
        "print(tf.config.list_physical_devices('GPU'))"
      ],
      "metadata": {
        "colab": {
          "base_uri": "https://localhost:8080/"
        },
        "id": "-6Cpbe1wNl_7",
        "outputId": "7827196b-c743-4372-edb7-bdb12ee56c4b"
      },
      "execution_count": 181,
      "outputs": [
        {
          "output_type": "stream",
          "name": "stdout",
          "text": [
            "[]\n"
          ]
        }
      ]
    },
    {
      "cell_type": "markdown",
      "source": [
        "Jika hasilnya adalah array kosong (atau tidak ada yang ditampilkan), itu berarti Anda tidak memiliki akses ke GPU (atau setidaknya TensorFlow tidak dapat menemukannya).\n",
        "\n",
        "Jika Anda menjalankan di Google Colab, Anda dapat mengakses GPU dengan pergi ke Runtime -> *Change Runtime Type* -> *Pilih GPU* (**catatan**: setelah melakukan ini, notebook Anda akan restart dan variabel apa pun yang Anda simpan akan hilang).\n",
        "\n",
        "Setelah Anda mengubah tipe runtime Anda, jalankan sel di bawah ini."
      ],
      "metadata": {
        "id": "S9zMDB-xOEVw"
      }
    },
    {
      "cell_type": "code",
      "source": [
        "print(tf.config.list_physical_devices('GPU'))"
      ],
      "metadata": {
        "colab": {
          "base_uri": "https://localhost:8080/"
        },
        "id": "dxyLYToUN_6c",
        "outputId": "3baa465d-967b-4083-c131-45dd6a244167"
      },
      "execution_count": 182,
      "outputs": [
        {
          "output_type": "stream",
          "name": "stdout",
          "text": [
            "[]\n"
          ]
        }
      ]
    },
    {
      "cell_type": "code",
      "source": [
        "!nvidia-smi"
      ],
      "metadata": {
        "colab": {
          "base_uri": "https://localhost:8080/"
        },
        "id": "fyxWzJenONCt",
        "outputId": "a3f832db-9126-4ed8-88d2-458eec4fdf7b"
      },
      "execution_count": 1,
      "outputs": [
        {
          "output_type": "stream",
          "name": "stdout",
          "text": [
            "Tue Feb 20 06:34:38 2024       \n",
            "+---------------------------------------------------------------------------------------+\n",
            "| NVIDIA-SMI 535.104.05             Driver Version: 535.104.05   CUDA Version: 12.2     |\n",
            "|-----------------------------------------+----------------------+----------------------+\n",
            "| GPU  Name                 Persistence-M | Bus-Id        Disp.A | Volatile Uncorr. ECC |\n",
            "| Fan  Temp   Perf          Pwr:Usage/Cap |         Memory-Usage | GPU-Util  Compute M. |\n",
            "|                                         |                      |               MIG M. |\n",
            "|=========================================+======================+======================|\n",
            "|   0  Tesla T4                       Off | 00000000:00:04.0 Off |                    0 |\n",
            "| N/A   68C    P8              13W /  70W |      0MiB / 15360MiB |      0%      Default |\n",
            "|                                         |                      |                  N/A |\n",
            "+-----------------------------------------+----------------------+----------------------+\n",
            "                                                                                         \n",
            "+---------------------------------------------------------------------------------------+\n",
            "| Processes:                                                                            |\n",
            "|  GPU   GI   CI        PID   Type   Process name                            GPU Memory |\n",
            "|        ID   ID                                                             Usage      |\n",
            "|=======================================================================================|\n",
            "|  No running processes found                                                           |\n",
            "+---------------------------------------------------------------------------------------+\n"
          ]
        }
      ]
    },
    {
      "cell_type": "markdown",
      "source": [
        ">🔑 Note: If you have access to a GPU, TensorFlow will automatically use it whenever possible."
      ],
      "metadata": {
        "id": "693Jg3FQOUww"
      }
    },
    {
      "cell_type": "markdown",
      "source": [
        "#🛠 Exercises\n",
        "1. Create a vector, scalar, matrix and tensor with values of your choosing using `tf.constant()`.\n",
        "2. Find the shape, rank and size of the tensors you created in 1.\n",
        "3. Create two tensors containing random values between 0 and 1 with shape `[5, 300]`.\n",
        "4. Multiply the two tensors you created in 3 using matrix multiplication.\n",
        "5. Multiply the two tensors you created in 3 using dot product.\n",
        "6. Create a tensor with random values between 0 and 1 with shape `[224, 224, 3]`.\n",
        "7. Find the min and max values of the tensor you created in 6.\n",
        "8. Created a tensor with random values of shape `[1, 224, 224, 3]` then squeeze it to change the shape to `[224, 224, 3]`.\n",
        "9. Create a tensor with shape `[10]` using your own choice of values, then find the index which has the maximum value.\n",
        "10. One-hot encode the tensor you created in 9."
      ],
      "metadata": {
        "id": "b2ZDKK33ObNZ"
      }
    },
    {
      "cell_type": "code",
      "source": [],
      "metadata": {
        "id": "sxjvyyxxOTRS"
      },
      "execution_count": null,
      "outputs": []
    }
  ]
}